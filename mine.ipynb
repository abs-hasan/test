{
 "cells": [
  {
   "cell_type": "code",
   "execution_count": 25,
   "id": "cbe0c0e5-a47c-4bb3-aa83-da6622cc9a45",
   "metadata": {},
   "outputs": [],
   "source": [
    "import os\n",
    "from pathlib2 import Path\n",
    "from zipfile import ZipFile\n",
    "import time\n",
    "\n",
    "import pandas as pd\n",
    "import numpy as np\n",
    "import subprocess\n",
    "\n",
    "import matplotlib.pyplot as plt\n",
    "import seaborn as sns\n",
    "\n",
    "sns.set()\n",
    "\n",
    "import warnings\n",
    "warnings.filterwarnings('ignore')\n",
    "\n",
    "%matplotlib inline\n",
    "\n",
    "# <please add any other library or function you are aiming to import here>\n"
   ]
  },
  {
   "cell_type": "code",
   "execution_count": 26,
   "id": "946bbc7f-7f09-45f6-8bce-c4514d7eabf3",
   "metadata": {},
   "outputs": [],
   "source": [
    "#pip install pathlib2\n",
    "#\n",
    "#\n",
    "#\n",
    "#\n",
    "#"
   ]
  },
  {
   "cell_type": "code",
   "execution_count": 27,
   "id": "ac51d9b7-a461-40ca-98c9-89adeb474aaa",
   "metadata": {},
   "outputs": [
    {
     "name": "stderr",
     "output_type": "stream",
     "text": [
      "A subdirectory or file csv_data already exists.\n"
     ]
    }
   ],
   "source": [
    "# <note: make them all relative, absolute path is not accepted>\n",
    "zip_path = \"data\" # 'path to the zip files'\n",
    "base_path = \".\" # 'the folder that contains the whole project (data and code)'\n",
    "csv_base_path = \"csv_data\" #'path to where you want the zip files extracted'\n",
    "!mkdir {csv_base_path}"
   ]
  },
  {
   "cell_type": "code",
   "execution_count": 28,
   "id": "c13e3f11-4e90-443d-acf1-6ee397765ed8",
   "metadata": {},
   "outputs": [
    {
     "name": "stdout",
     "output_type": "stream",
     "text": [
      "Number of .zip files: 60\n"
     ]
    }
   ],
   "source": [
    "import os\n",
    "\n",
    "zip_files = []\n",
    "\n",
    "for f in os.listdir(zip_path):\n",
    "    if f.endswith('.zip'):\n",
    "        file_path = os.path.join(zip_path, f)\n",
    "        zip_files.append(f)  # Append just the filename to the list\n",
    "\n",
    "# Print the number of zip files and the list of zip file names\n",
    "print(f\"Number of .zip files: {len(zip_files)}\")"
   ]
  },
  {
   "cell_type": "code",
   "execution_count": 6,
   "id": "7711f7a9-6b70-4609-b9f0-4a7c73dc4978",
   "metadata": {},
   "outputs": [
    {
     "name": "stdout",
     "output_type": "stream",
     "text": [
      "Number of CSV files extracted: 60\n"
     ]
    }
   ],
   "source": []
  },
  {
   "cell_type": "code",
   "execution_count": null,
   "id": "f5b1a32c-c79f-474e-aa1f-ca4e81b6b989",
   "metadata": {},
   "outputs": [],
   "source": []
  },
  {
   "cell_type": "code",
   "execution_count": 5,
   "id": "52b7474f-f03f-4f14-b358-30ced548be16",
   "metadata": {},
   "outputs": [
    {
     "name": "stdout",
     "output_type": "stream",
     "text": [
      "Extracting data\\On_Time_Reporting_Carrier_On_Time_Performance_1987_present_2014_1.zip \n",
      "Extracting data\\On_Time_Reporting_Carrier_On_Time_Performance_1987_present_2014_10.zip \n",
      "Extracting data\\On_Time_Reporting_Carrier_On_Time_Performance_1987_present_2014_11.zip \n",
      "Extracting data\\On_Time_Reporting_Carrier_On_Time_Performance_1987_present_2014_12.zip \n",
      "Extracting data\\On_Time_Reporting_Carrier_On_Time_Performance_1987_present_2014_2.zip \n",
      "Extracting data\\On_Time_Reporting_Carrier_On_Time_Performance_1987_present_2014_3.zip \n",
      "Extracting data\\On_Time_Reporting_Carrier_On_Time_Performance_1987_present_2014_4.zip \n",
      "Extracting data\\On_Time_Reporting_Carrier_On_Time_Performance_1987_present_2014_5.zip \n",
      "Extracting data\\On_Time_Reporting_Carrier_On_Time_Performance_1987_present_2014_6.zip \n",
      "Extracting data\\On_Time_Reporting_Carrier_On_Time_Performance_1987_present_2014_7.zip \n",
      "Extracting data\\On_Time_Reporting_Carrier_On_Time_Performance_1987_present_2014_8.zip \n",
      "Extracting data\\On_Time_Reporting_Carrier_On_Time_Performance_1987_present_2014_9.zip \n",
      "Extracting data\\On_Time_Reporting_Carrier_On_Time_Performance_1987_present_2015_1.zip \n",
      "Extracting data\\On_Time_Reporting_Carrier_On_Time_Performance_1987_present_2015_10.zip \n",
      "Extracting data\\On_Time_Reporting_Carrier_On_Time_Performance_1987_present_2015_11.zip \n",
      "Extracting data\\On_Time_Reporting_Carrier_On_Time_Performance_1987_present_2015_12.zip \n",
      "Extracting data\\On_Time_Reporting_Carrier_On_Time_Performance_1987_present_2015_2.zip \n",
      "Extracting data\\On_Time_Reporting_Carrier_On_Time_Performance_1987_present_2015_3.zip \n",
      "Extracting data\\On_Time_Reporting_Carrier_On_Time_Performance_1987_present_2015_4.zip \n",
      "Extracting data\\On_Time_Reporting_Carrier_On_Time_Performance_1987_present_2015_5.zip \n",
      "Extracting data\\On_Time_Reporting_Carrier_On_Time_Performance_1987_present_2015_6.zip \n",
      "Extracting data\\On_Time_Reporting_Carrier_On_Time_Performance_1987_present_2015_7.zip \n",
      "Extracting data\\On_Time_Reporting_Carrier_On_Time_Performance_1987_present_2015_8.zip \n",
      "Extracting data\\On_Time_Reporting_Carrier_On_Time_Performance_1987_present_2015_9.zip \n",
      "Extracting data\\On_Time_Reporting_Carrier_On_Time_Performance_1987_present_2016_1.zip \n",
      "Extracting data\\On_Time_Reporting_Carrier_On_Time_Performance_1987_present_2016_10.zip \n",
      "Extracting data\\On_Time_Reporting_Carrier_On_Time_Performance_1987_present_2016_11.zip \n",
      "Extracting data\\On_Time_Reporting_Carrier_On_Time_Performance_1987_present_2016_12.zip \n",
      "Extracting data\\On_Time_Reporting_Carrier_On_Time_Performance_1987_present_2016_2.zip \n",
      "Extracting data\\On_Time_Reporting_Carrier_On_Time_Performance_1987_present_2016_3.zip \n",
      "Extracting data\\On_Time_Reporting_Carrier_On_Time_Performance_1987_present_2016_4.zip \n",
      "Extracting data\\On_Time_Reporting_Carrier_On_Time_Performance_1987_present_2016_5.zip \n",
      "Extracting data\\On_Time_Reporting_Carrier_On_Time_Performance_1987_present_2016_6.zip \n",
      "Extracting data\\On_Time_Reporting_Carrier_On_Time_Performance_1987_present_2016_7.zip \n",
      "Extracting data\\On_Time_Reporting_Carrier_On_Time_Performance_1987_present_2016_8.zip \n",
      "Extracting data\\On_Time_Reporting_Carrier_On_Time_Performance_1987_present_2016_9.zip \n",
      "Extracting data\\On_Time_Reporting_Carrier_On_Time_Performance_1987_present_2017_1.zip \n",
      "Extracting data\\On_Time_Reporting_Carrier_On_Time_Performance_1987_present_2017_10.zip \n",
      "Extracting data\\On_Time_Reporting_Carrier_On_Time_Performance_1987_present_2017_11.zip \n",
      "Extracting data\\On_Time_Reporting_Carrier_On_Time_Performance_1987_present_2017_12.zip \n",
      "Extracting data\\On_Time_Reporting_Carrier_On_Time_Performance_1987_present_2017_2.zip \n",
      "Extracting data\\On_Time_Reporting_Carrier_On_Time_Performance_1987_present_2017_3.zip \n",
      "Extracting data\\On_Time_Reporting_Carrier_On_Time_Performance_1987_present_2017_4.zip \n",
      "Extracting data\\On_Time_Reporting_Carrier_On_Time_Performance_1987_present_2017_5.zip \n",
      "Extracting data\\On_Time_Reporting_Carrier_On_Time_Performance_1987_present_2017_6.zip \n",
      "Extracting data\\On_Time_Reporting_Carrier_On_Time_Performance_1987_present_2017_7.zip \n",
      "Extracting data\\On_Time_Reporting_Carrier_On_Time_Performance_1987_present_2017_8.zip \n",
      "Extracting data\\On_Time_Reporting_Carrier_On_Time_Performance_1987_present_2017_9.zip \n",
      "Extracting data\\On_Time_Reporting_Carrier_On_Time_Performance_1987_present_2018_1.zip \n",
      "Extracting data\\On_Time_Reporting_Carrier_On_Time_Performance_1987_present_2018_10.zip \n",
      "Extracting data\\On_Time_Reporting_Carrier_On_Time_Performance_1987_present_2018_11.zip \n",
      "Extracting data\\On_Time_Reporting_Carrier_On_Time_Performance_1987_present_2018_12.zip \n",
      "Extracting data\\On_Time_Reporting_Carrier_On_Time_Performance_1987_present_2018_2.zip \n",
      "Extracting data\\On_Time_Reporting_Carrier_On_Time_Performance_1987_present_2018_3.zip \n",
      "Extracting data\\On_Time_Reporting_Carrier_On_Time_Performance_1987_present_2018_4.zip \n",
      "Extracting data\\On_Time_Reporting_Carrier_On_Time_Performance_1987_present_2018_5.zip \n",
      "Extracting data\\On_Time_Reporting_Carrier_On_Time_Performance_1987_present_2018_6.zip \n",
      "Extracting data\\On_Time_Reporting_Carrier_On_Time_Performance_1987_present_2018_7.zip \n",
      "Extracting data\\On_Time_Reporting_Carrier_On_Time_Performance_1987_present_2018_8.zip \n",
      "Extracting data\\On_Time_Reporting_Carrier_On_Time_Performance_1987_present_2018_9.zip \n",
      "Files Extracted\n"
     ]
    }
   ],
   "source": [
    "import os\n",
    "from zipfile import ZipFile\n",
    "\n",
    "def zip2csv(zipFile_name, file_path):\n",
    "    \"\"\"\n",
    "    Extract csv from zip files\n",
    "    zipFile_name: name of the zip file\n",
    "    file_path : name of the folder to store csv\n",
    "    \"\"\"\n",
    "    try:\n",
    "        with ZipFile(zipFile_name, 'r') as z: \n",
    "            print(f'Extracting {zipFile_name} ') \n",
    "            z.extractall(path=file_path) \n",
    "    except Exception as e:\n",
    "        print(f'zip2csv failed for {zipFile_name}: {e}')\n",
    "\n",
    "\n",
    "# Get a list of zip files in the zip_path directory\n",
    "zip_files = [os.path.join(zip_path, f) for f in os.listdir(zip_path) if f.endswith('.zip')]\n",
    "\n",
    "# Extract each zip file\n",
    "for file in zip_files:\n",
    "    zip2csv(file, csv_base_path)\n",
    "\n",
    "print(\"Files Extracted\")"
   ]
  },
  {
   "cell_type": "code",
   "execution_count": 29,
   "id": "b0e813d2-6bb9-40a2-a46e-cdc92db22a7b",
   "metadata": {},
   "outputs": [
    {
     "name": "stdout",
     "output_type": "stream",
     "text": [
      "Number of CSV files extracted: 60\n"
     ]
    }
   ],
   "source": [
    "import os\n",
    "import glob\n",
    "\n",
    "csv_base_path = \"csv_data\"  # Replace with the actual path where CSV files are extracted\n",
    "csv_files = glob.glob(os.path.join(csv_base_path, '*.csv'))\n",
    "print(f\"Number of CSV files extracted: {len(csv_files)}\")\n"
   ]
  },
  {
   "cell_type": "code",
   "execution_count": 30,
   "id": "e7d3c9ea-de06-4dd2-a64c-369313e9f544",
   "metadata": {},
   "outputs": [
    {
     "data": {
      "text/plain": [
       "'csv_data'"
      ]
     },
     "execution_count": 30,
     "metadata": {},
     "output_type": "execute_result"
    }
   ],
   "source": [
    "csv_base_path"
   ]
  },
  {
   "cell_type": "code",
   "execution_count": 11,
   "id": "8862a311-bf95-43a6-bd64-5cf6d2caf0c8",
   "metadata": {},
   "outputs": [
    {
     "data": {
      "text/html": [
       "\n",
       "        <iframe\n",
       "            width=\"1000\"\n",
       "            height=\"600\"\n",
       "            src=\"csv_data\\readme.html\"\n",
       "            frameborder=\"0\"\n",
       "            allowfullscreen\n",
       "            \n",
       "        ></iframe>\n",
       "        "
      ],
      "text/plain": [
       "<IPython.lib.display.IFrame at 0x21925eeaa50>"
      ]
     },
     "execution_count": 11,
     "metadata": {},
     "output_type": "execute_result"
    }
   ],
   "source": [
    "csv_base_path = 'csv_data'\n",
    "from IPython.display import IFrame\n",
    "\n",
    "IFrame(src=os.path.relpath(f\"{csv_base_path}/readme.html\"), width=1000, height=600)"
   ]
  },
  {
   "cell_type": "code",
   "execution_count": 4,
   "id": "76804ca3-00c7-4381-a0d2-2373ea86e784",
   "metadata": {},
   "outputs": [],
   "source": [
    "df_temp = pd.read_csv(\"csv_data/On_Time_Reporting_Carrier_On_Time_Performance_(1987_present)_2018_9.csv\")"
   ]
  },
  {
   "cell_type": "code",
   "execution_count": 5,
   "id": "3169e9c1-c331-4cb8-8b6e-e6d505e81e54",
   "metadata": {},
   "outputs": [
    {
     "name": "stdout",
     "output_type": "stream",
     "text": [
      "Rows and columns in one csv file is (585749, 110)\n"
     ]
    }
   ],
   "source": [
    "df_shape = df_temp.shape\n",
    "print(f'Rows and columns in one csv file is {df_shape}')"
   ]
  },
  {
   "cell_type": "code",
   "execution_count": 6,
   "id": "c85d5b49-ceb6-490f-9cf7-e6ca66343e25",
   "metadata": {},
   "outputs": [
    {
     "data": {
      "text/html": [
       "<div>\n",
       "<style scoped>\n",
       "    .dataframe tbody tr th:only-of-type {\n",
       "        vertical-align: middle;\n",
       "    }\n",
       "\n",
       "    .dataframe tbody tr th {\n",
       "        vertical-align: top;\n",
       "    }\n",
       "\n",
       "    .dataframe thead th {\n",
       "        text-align: right;\n",
       "    }\n",
       "</style>\n",
       "<table border=\"1\" class=\"dataframe\">\n",
       "  <thead>\n",
       "    <tr style=\"text-align: right;\">\n",
       "      <th></th>\n",
       "      <th>Year</th>\n",
       "      <th>Quarter</th>\n",
       "      <th>Month</th>\n",
       "      <th>DayofMonth</th>\n",
       "      <th>DayOfWeek</th>\n",
       "      <th>FlightDate</th>\n",
       "      <th>Reporting_Airline</th>\n",
       "      <th>DOT_ID_Reporting_Airline</th>\n",
       "      <th>IATA_CODE_Reporting_Airline</th>\n",
       "      <th>Tail_Number</th>\n",
       "      <th>...</th>\n",
       "      <th>Div4TailNum</th>\n",
       "      <th>Div5Airport</th>\n",
       "      <th>Div5AirportID</th>\n",
       "      <th>Div5AirportSeqID</th>\n",
       "      <th>Div5WheelsOn</th>\n",
       "      <th>Div5TotalGTime</th>\n",
       "      <th>Div5LongestGTime</th>\n",
       "      <th>Div5WheelsOff</th>\n",
       "      <th>Div5TailNum</th>\n",
       "      <th>Unnamed: 109</th>\n",
       "    </tr>\n",
       "  </thead>\n",
       "  <tbody>\n",
       "    <tr>\n",
       "      <th>0</th>\n",
       "      <td>2018</td>\n",
       "      <td>3</td>\n",
       "      <td>9</td>\n",
       "      <td>3</td>\n",
       "      <td>1</td>\n",
       "      <td>2018-09-03</td>\n",
       "      <td>9E</td>\n",
       "      <td>20363</td>\n",
       "      <td>9E</td>\n",
       "      <td>N908XJ</td>\n",
       "      <td>...</td>\n",
       "      <td>NaN</td>\n",
       "      <td>NaN</td>\n",
       "      <td>NaN</td>\n",
       "      <td>NaN</td>\n",
       "      <td>NaN</td>\n",
       "      <td>NaN</td>\n",
       "      <td>NaN</td>\n",
       "      <td>NaN</td>\n",
       "      <td>NaN</td>\n",
       "      <td>NaN</td>\n",
       "    </tr>\n",
       "    <tr>\n",
       "      <th>1</th>\n",
       "      <td>2018</td>\n",
       "      <td>3</td>\n",
       "      <td>9</td>\n",
       "      <td>9</td>\n",
       "      <td>7</td>\n",
       "      <td>2018-09-09</td>\n",
       "      <td>9E</td>\n",
       "      <td>20363</td>\n",
       "      <td>9E</td>\n",
       "      <td>N315PQ</td>\n",
       "      <td>...</td>\n",
       "      <td>NaN</td>\n",
       "      <td>NaN</td>\n",
       "      <td>NaN</td>\n",
       "      <td>NaN</td>\n",
       "      <td>NaN</td>\n",
       "      <td>NaN</td>\n",
       "      <td>NaN</td>\n",
       "      <td>NaN</td>\n",
       "      <td>NaN</td>\n",
       "      <td>NaN</td>\n",
       "    </tr>\n",
       "    <tr>\n",
       "      <th>2</th>\n",
       "      <td>2018</td>\n",
       "      <td>3</td>\n",
       "      <td>9</td>\n",
       "      <td>10</td>\n",
       "      <td>1</td>\n",
       "      <td>2018-09-10</td>\n",
       "      <td>9E</td>\n",
       "      <td>20363</td>\n",
       "      <td>9E</td>\n",
       "      <td>N582CA</td>\n",
       "      <td>...</td>\n",
       "      <td>NaN</td>\n",
       "      <td>NaN</td>\n",
       "      <td>NaN</td>\n",
       "      <td>NaN</td>\n",
       "      <td>NaN</td>\n",
       "      <td>NaN</td>\n",
       "      <td>NaN</td>\n",
       "      <td>NaN</td>\n",
       "      <td>NaN</td>\n",
       "      <td>NaN</td>\n",
       "    </tr>\n",
       "    <tr>\n",
       "      <th>3</th>\n",
       "      <td>2018</td>\n",
       "      <td>3</td>\n",
       "      <td>9</td>\n",
       "      <td>13</td>\n",
       "      <td>4</td>\n",
       "      <td>2018-09-13</td>\n",
       "      <td>9E</td>\n",
       "      <td>20363</td>\n",
       "      <td>9E</td>\n",
       "      <td>N292PQ</td>\n",
       "      <td>...</td>\n",
       "      <td>NaN</td>\n",
       "      <td>NaN</td>\n",
       "      <td>NaN</td>\n",
       "      <td>NaN</td>\n",
       "      <td>NaN</td>\n",
       "      <td>NaN</td>\n",
       "      <td>NaN</td>\n",
       "      <td>NaN</td>\n",
       "      <td>NaN</td>\n",
       "      <td>NaN</td>\n",
       "    </tr>\n",
       "    <tr>\n",
       "      <th>4</th>\n",
       "      <td>2018</td>\n",
       "      <td>3</td>\n",
       "      <td>9</td>\n",
       "      <td>14</td>\n",
       "      <td>5</td>\n",
       "      <td>2018-09-14</td>\n",
       "      <td>9E</td>\n",
       "      <td>20363</td>\n",
       "      <td>9E</td>\n",
       "      <td>N600LR</td>\n",
       "      <td>...</td>\n",
       "      <td>NaN</td>\n",
       "      <td>NaN</td>\n",
       "      <td>NaN</td>\n",
       "      <td>NaN</td>\n",
       "      <td>NaN</td>\n",
       "      <td>NaN</td>\n",
       "      <td>NaN</td>\n",
       "      <td>NaN</td>\n",
       "      <td>NaN</td>\n",
       "      <td>NaN</td>\n",
       "    </tr>\n",
       "    <tr>\n",
       "      <th>5</th>\n",
       "      <td>2018</td>\n",
       "      <td>3</td>\n",
       "      <td>9</td>\n",
       "      <td>16</td>\n",
       "      <td>7</td>\n",
       "      <td>2018-09-16</td>\n",
       "      <td>9E</td>\n",
       "      <td>20363</td>\n",
       "      <td>9E</td>\n",
       "      <td>N316PQ</td>\n",
       "      <td>...</td>\n",
       "      <td>NaN</td>\n",
       "      <td>NaN</td>\n",
       "      <td>NaN</td>\n",
       "      <td>NaN</td>\n",
       "      <td>NaN</td>\n",
       "      <td>NaN</td>\n",
       "      <td>NaN</td>\n",
       "      <td>NaN</td>\n",
       "      <td>NaN</td>\n",
       "      <td>NaN</td>\n",
       "    </tr>\n",
       "    <tr>\n",
       "      <th>6</th>\n",
       "      <td>2018</td>\n",
       "      <td>3</td>\n",
       "      <td>9</td>\n",
       "      <td>17</td>\n",
       "      <td>1</td>\n",
       "      <td>2018-09-17</td>\n",
       "      <td>9E</td>\n",
       "      <td>20363</td>\n",
       "      <td>9E</td>\n",
       "      <td>N916XJ</td>\n",
       "      <td>...</td>\n",
       "      <td>NaN</td>\n",
       "      <td>NaN</td>\n",
       "      <td>NaN</td>\n",
       "      <td>NaN</td>\n",
       "      <td>NaN</td>\n",
       "      <td>NaN</td>\n",
       "      <td>NaN</td>\n",
       "      <td>NaN</td>\n",
       "      <td>NaN</td>\n",
       "      <td>NaN</td>\n",
       "    </tr>\n",
       "    <tr>\n",
       "      <th>7</th>\n",
       "      <td>2018</td>\n",
       "      <td>3</td>\n",
       "      <td>9</td>\n",
       "      <td>20</td>\n",
       "      <td>4</td>\n",
       "      <td>2018-09-20</td>\n",
       "      <td>9E</td>\n",
       "      <td>20363</td>\n",
       "      <td>9E</td>\n",
       "      <td>N371CA</td>\n",
       "      <td>...</td>\n",
       "      <td>NaN</td>\n",
       "      <td>NaN</td>\n",
       "      <td>NaN</td>\n",
       "      <td>NaN</td>\n",
       "      <td>NaN</td>\n",
       "      <td>NaN</td>\n",
       "      <td>NaN</td>\n",
       "      <td>NaN</td>\n",
       "      <td>NaN</td>\n",
       "      <td>NaN</td>\n",
       "    </tr>\n",
       "    <tr>\n",
       "      <th>8</th>\n",
       "      <td>2018</td>\n",
       "      <td>3</td>\n",
       "      <td>9</td>\n",
       "      <td>21</td>\n",
       "      <td>5</td>\n",
       "      <td>2018-09-21</td>\n",
       "      <td>9E</td>\n",
       "      <td>20363</td>\n",
       "      <td>9E</td>\n",
       "      <td>N601LR</td>\n",
       "      <td>...</td>\n",
       "      <td>NaN</td>\n",
       "      <td>NaN</td>\n",
       "      <td>NaN</td>\n",
       "      <td>NaN</td>\n",
       "      <td>NaN</td>\n",
       "      <td>NaN</td>\n",
       "      <td>NaN</td>\n",
       "      <td>NaN</td>\n",
       "      <td>NaN</td>\n",
       "      <td>NaN</td>\n",
       "    </tr>\n",
       "    <tr>\n",
       "      <th>9</th>\n",
       "      <td>2018</td>\n",
       "      <td>3</td>\n",
       "      <td>9</td>\n",
       "      <td>23</td>\n",
       "      <td>7</td>\n",
       "      <td>2018-09-23</td>\n",
       "      <td>9E</td>\n",
       "      <td>20363</td>\n",
       "      <td>9E</td>\n",
       "      <td>N906XJ</td>\n",
       "      <td>...</td>\n",
       "      <td>NaN</td>\n",
       "      <td>NaN</td>\n",
       "      <td>NaN</td>\n",
       "      <td>NaN</td>\n",
       "      <td>NaN</td>\n",
       "      <td>NaN</td>\n",
       "      <td>NaN</td>\n",
       "      <td>NaN</td>\n",
       "      <td>NaN</td>\n",
       "      <td>NaN</td>\n",
       "    </tr>\n",
       "  </tbody>\n",
       "</table>\n",
       "<p>10 rows × 110 columns</p>\n",
       "</div>"
      ],
      "text/plain": [
       "   Year  Quarter  Month  DayofMonth  DayOfWeek  FlightDate Reporting_Airline  \\\n",
       "0  2018        3      9           3          1  2018-09-03                9E   \n",
       "1  2018        3      9           9          7  2018-09-09                9E   \n",
       "2  2018        3      9          10          1  2018-09-10                9E   \n",
       "3  2018        3      9          13          4  2018-09-13                9E   \n",
       "4  2018        3      9          14          5  2018-09-14                9E   \n",
       "5  2018        3      9          16          7  2018-09-16                9E   \n",
       "6  2018        3      9          17          1  2018-09-17                9E   \n",
       "7  2018        3      9          20          4  2018-09-20                9E   \n",
       "8  2018        3      9          21          5  2018-09-21                9E   \n",
       "9  2018        3      9          23          7  2018-09-23                9E   \n",
       "\n",
       "   DOT_ID_Reporting_Airline IATA_CODE_Reporting_Airline Tail_Number  ...  \\\n",
       "0                     20363                          9E      N908XJ  ...   \n",
       "1                     20363                          9E      N315PQ  ...   \n",
       "2                     20363                          9E      N582CA  ...   \n",
       "3                     20363                          9E      N292PQ  ...   \n",
       "4                     20363                          9E      N600LR  ...   \n",
       "5                     20363                          9E      N316PQ  ...   \n",
       "6                     20363                          9E      N916XJ  ...   \n",
       "7                     20363                          9E      N371CA  ...   \n",
       "8                     20363                          9E      N601LR  ...   \n",
       "9                     20363                          9E      N906XJ  ...   \n",
       "\n",
       "   Div4TailNum  Div5Airport  Div5AirportID  Div5AirportSeqID Div5WheelsOn  \\\n",
       "0          NaN          NaN            NaN               NaN          NaN   \n",
       "1          NaN          NaN            NaN               NaN          NaN   \n",
       "2          NaN          NaN            NaN               NaN          NaN   \n",
       "3          NaN          NaN            NaN               NaN          NaN   \n",
       "4          NaN          NaN            NaN               NaN          NaN   \n",
       "5          NaN          NaN            NaN               NaN          NaN   \n",
       "6          NaN          NaN            NaN               NaN          NaN   \n",
       "7          NaN          NaN            NaN               NaN          NaN   \n",
       "8          NaN          NaN            NaN               NaN          NaN   \n",
       "9          NaN          NaN            NaN               NaN          NaN   \n",
       "\n",
       "  Div5TotalGTime Div5LongestGTime  Div5WheelsOff Div5TailNum  Unnamed: 109  \n",
       "0            NaN              NaN            NaN         NaN           NaN  \n",
       "1            NaN              NaN            NaN         NaN           NaN  \n",
       "2            NaN              NaN            NaN         NaN           NaN  \n",
       "3            NaN              NaN            NaN         NaN           NaN  \n",
       "4            NaN              NaN            NaN         NaN           NaN  \n",
       "5            NaN              NaN            NaN         NaN           NaN  \n",
       "6            NaN              NaN            NaN         NaN           NaN  \n",
       "7            NaN              NaN            NaN         NaN           NaN  \n",
       "8            NaN              NaN            NaN         NaN           NaN  \n",
       "9            NaN              NaN            NaN         NaN           NaN  \n",
       "\n",
       "[10 rows x 110 columns]"
      ]
     },
     "execution_count": 6,
     "metadata": {},
     "output_type": "execute_result"
    }
   ],
   "source": [
    "df_temp.head(10)"
   ]
  },
  {
   "cell_type": "code",
   "execution_count": null,
   "id": "a56097e7-1fd4-47ef-95f1-fd9e81ad8e57",
   "metadata": {},
   "outputs": [],
   "source": []
  },
  {
   "cell_type": "code",
   "execution_count": 7,
   "id": "92ec7044-043d-4292-8bcc-d606ed4ca964",
   "metadata": {},
   "outputs": [
    {
     "name": "stdout",
     "output_type": "stream",
     "text": [
      "The column names are :\n",
      "#########\n",
      "Year\n",
      "Quarter\n",
      "Month\n",
      "DayofMonth\n",
      "DayOfWeek\n",
      "FlightDate\n",
      "Reporting_Airline\n",
      "DOT_ID_Reporting_Airline\n",
      "IATA_CODE_Reporting_Airline\n",
      "Tail_Number\n",
      "Flight_Number_Reporting_Airline\n",
      "OriginAirportID\n",
      "OriginAirportSeqID\n",
      "OriginCityMarketID\n",
      "Origin\n",
      "OriginCityName\n",
      "OriginState\n",
      "OriginStateFips\n",
      "OriginStateName\n",
      "OriginWac\n",
      "DestAirportID\n",
      "DestAirportSeqID\n",
      "DestCityMarketID\n",
      "Dest\n",
      "DestCityName\n",
      "DestState\n",
      "DestStateFips\n",
      "DestStateName\n",
      "DestWac\n",
      "CRSDepTime\n",
      "DepTime\n",
      "DepDelay\n",
      "DepDelayMinutes\n",
      "DepDel15\n",
      "DepartureDelayGroups\n",
      "DepTimeBlk\n",
      "TaxiOut\n",
      "WheelsOff\n",
      "WheelsOn\n",
      "TaxiIn\n",
      "CRSArrTime\n",
      "ArrTime\n",
      "ArrDelay\n",
      "ArrDelayMinutes\n",
      "ArrDel15\n",
      "ArrivalDelayGroups\n",
      "ArrTimeBlk\n",
      "Cancelled\n",
      "CancellationCode\n",
      "Diverted\n",
      "CRSElapsedTime\n",
      "ActualElapsedTime\n",
      "AirTime\n",
      "Flights\n",
      "Distance\n",
      "DistanceGroup\n",
      "CarrierDelay\n",
      "WeatherDelay\n",
      "NASDelay\n",
      "SecurityDelay\n",
      "LateAircraftDelay\n",
      "FirstDepTime\n",
      "TotalAddGTime\n",
      "LongestAddGTime\n",
      "DivAirportLandings\n",
      "DivReachedDest\n",
      "DivActualElapsedTime\n",
      "DivArrDelay\n",
      "DivDistance\n",
      "Div1Airport\n",
      "Div1AirportID\n",
      "Div1AirportSeqID\n",
      "Div1WheelsOn\n",
      "Div1TotalGTime\n",
      "Div1LongestGTime\n",
      "Div1WheelsOff\n",
      "Div1TailNum\n",
      "Div2Airport\n",
      "Div2AirportID\n",
      "Div2AirportSeqID\n",
      "Div2WheelsOn\n",
      "Div2TotalGTime\n",
      "Div2LongestGTime\n",
      "Div2WheelsOff\n",
      "Div2TailNum\n",
      "Div3Airport\n",
      "Div3AirportID\n",
      "Div3AirportSeqID\n",
      "Div3WheelsOn\n",
      "Div3TotalGTime\n",
      "Div3LongestGTime\n",
      "Div3WheelsOff\n",
      "Div3TailNum\n",
      "Div4Airport\n",
      "Div4AirportID\n",
      "Div4AirportSeqID\n",
      "Div4WheelsOn\n",
      "Div4TotalGTime\n",
      "Div4LongestGTime\n",
      "Div4WheelsOff\n",
      "Div4TailNum\n",
      "Div5Airport\n",
      "Div5AirportID\n",
      "Div5AirportSeqID\n",
      "Div5WheelsOn\n",
      "Div5TotalGTime\n",
      "Div5LongestGTime\n",
      "Div5WheelsOff\n",
      "Div5TailNum\n",
      "Unnamed: 109\n"
     ]
    }
   ],
   "source": [
    "print(f'The column names are :')\n",
    "print('#########')\n",
    "for col in df_temp.columns:# **ENTER YOUR CODE HERE**\n",
    "    print(col)"
   ]
  },
  {
   "cell_type": "code",
   "execution_count": 8,
   "id": "c0f20446-fdd7-4e7c-9def-87919fc96859",
   "metadata": {},
   "outputs": [
    {
     "name": "stdout",
     "output_type": "stream",
     "text": [
      "Column names containing \"Del\":\n",
      "#########\n",
      "DepDelay\n",
      "DepDelayMinutes\n",
      "DepDel15\n",
      "DepartureDelayGroups\n",
      "ArrDelay\n",
      "ArrDelayMinutes\n",
      "ArrDel15\n",
      "ArrivalDelayGroups\n",
      "CarrierDelay\n",
      "WeatherDelay\n",
      "NASDelay\n",
      "SecurityDelay\n",
      "LateAircraftDelay\n",
      "DivArrDelay\n"
     ]
    }
   ],
   "source": [
    "print(f'Column names containing \"Del\":')\n",
    "print('#########')\n",
    "del_columns = [col for col in df_temp.columns if 'Del' in col]\n",
    "for col in del_columns:\n",
    "    print(col)"
   ]
  },
  {
   "cell_type": "code",
   "execution_count": 11,
   "id": "b859ec72-eeb8-4031-8bbc-975d3ec2a04b",
   "metadata": {},
   "outputs": [
    {
     "name": "stdout",
     "output_type": "stream",
     "text": [
      "The number of rows and columns are 585749 and 110\n",
      "The years in this dataset are: [2018]\n",
      "The date range for data is: 2018-09-01 to 2018-09-30\n",
      "The airlines covered in this dataset are: ['9E', 'B6', 'WN', 'YV', 'YX', 'EV', 'AA', 'AS', 'DL', 'HA', 'UA', 'F9', 'G4', 'MQ', 'NK', 'OH', 'OO']\n",
      "The Origin airports covered are: ['DFW', 'LGA', 'MSN', 'MSP', 'ATL', 'BDL', 'VLD', 'JFK', 'RDU', 'CHS', 'DTW', 'GRB', 'PVD', 'SHV', 'FNT', 'PIT', 'RIC', 'RST', 'RSW', 'CVG', 'LIT', 'ORD', 'JAX', 'TRI', 'BOS', 'CWA', 'DCA', 'CHO', 'AVP', 'IND', 'GRR', 'BTR', 'MEM', 'TUL', 'CLE', 'STL', 'BTV', 'OMA', 'MGM', 'TVC', 'SAV', 'GSP', 'EWR', 'OAJ', 'BNA', 'MCI', 'TLH', 'ROC', 'LEX', 'PWM', 'BUF', 'AGS', 'CLT', 'GSO', 'BWI', 'SAT', 'PHL', 'TYS', 'ACK', 'DSM', 'GNV', 'AVL', 'BGR', 'MHT', 'ILM', 'MOT', 'IAH', 'SBN', 'SYR', 'ORF', 'MKE', 'XNA', 'MSY', 'PBI', 'ABE', 'HPN', 'EVV', 'ALB', 'LNK', 'AUS', 'PHF', 'CHA', 'GTR', 'BMI', 'BQK', 'CID', 'CAK', 'ATW', 'ABY', 'CAE', 'SRQ', 'MLI', 'BHM', 'IAD', 'CSG', 'CMH', 'MCO', 'MBS', 'FLL', 'SDF', 'TPA', 'MVY', 'LAS', 'LGB', 'SFO', 'SAN', 'LAX', 'RNO', 'PDX', 'ANC', 'ABQ', 'SLC', 'DEN', 'PHX', 'OAK', 'SMF', 'SJU', 'SEA', 'HOU', 'STX', 'BUR', 'SWF', 'SJC', 'DAB', 'BQN', 'PSE', 'ORH', 'HYA', 'STT', 'ONT', 'HRL', 'ICT', 'ISP', 'LBB', 'MAF', 'MDW', 'OKC', 'PNS', 'SNA', 'TUS', 'AMA', 'BOI', 'CRP', 'DAL', 'ECP', 'ELP', 'GEG', 'LFT', 'MFE', 'MDT', 'JAN', 'COS', 'MOB', 'VPS', 'MTJ', 'DRO', 'GPT', 'BFL', 'MRY', 'SBA', 'PSP', 'FSD', 'BRO', 'RAP', 'COU', 'STS', 'PIA', 'FAT', 'SBP', 'FSM', 'HSV', 'BIS', 'DAY', 'BZN', 'MIA', 'EYW', 'MYR', 'HHH', 'GJT', 'FAR', 'SGF', 'HOB', 'CLL', 'LRD', 'AEX', 'ERI', 'MLU', 'LCH', 'ROA', 'LAW', 'MHK', 'GRK', 'SAF', 'GRI', 'JLN', 'ROW', 'FWA', 'CRW', 'LAN', 'OGG', 'HNL', 'KOA', 'EGE', 'LIH', 'MLB', 'JAC', 'FAI', 'RDM', 'ADQ', 'BET', 'BRW', 'SCC', 'KTN', 'YAK', 'CDV', 'JNU', 'SIT', 'PSG', 'WRG', 'OME', 'OTZ', 'ADK', 'FCA', 'FAY', 'PSC', 'BIL', 'MSO', 'ITO', 'PPG', 'MFR', 'EUG', 'GUM', 'SPN', 'DLH', 'TTN', 'BKG', 'SFB', 'PIE', 'PGD', 'AZA', 'SMX', 'RFD', 'SCK', 'OWB', 'HTS', 'BLV', 'IAG', 'USA', 'GFK', 'BLI', 'ELM', 'PBG', 'LCK', 'GTF', 'OGD', 'IDA', 'PVU', 'TOL', 'PSM', 'CKB', 'HGR', 'SPI', 'STC', 'ACT', 'TYR', 'ABI', 'AZO', 'CMI', 'BPT', 'GCK', 'MQT', 'ALO', 'TXK', 'SPS', 'SWO', 'DBQ', 'SUX', 'SJT', 'GGG', 'LSE', 'LBE', 'ACY', 'LYH', 'PGV', 'HVN', 'EWN', 'DHN', 'PIH', 'IMT', 'WYS', 'CPR', 'SCE', 'HLN', 'SUN', 'ISN', 'CMX', 'EAU', 'LWB', 'SHD', 'LBF', 'HYS', 'SLN', 'EAR', 'VEL', 'CNY', 'GCC', 'RKS', 'PUB', 'LBL', 'MKG', 'PAH', 'CGI', 'UIN', 'BFF', 'DVL', 'JMS', 'LAR', 'SGU', 'PRC', 'ASE', 'RDD', 'ACV', 'OTH', 'COD', 'LWS', 'ABR', 'APN', 'ESC', 'PLN', 'BJI', 'BRD', 'BTM', 'CDC', 'CIU', 'EKO', 'TWF', 'HIB', 'BGM', 'RHI', 'ITH', 'INL', 'FLG', 'YUM', 'MEI', 'PIB', 'HDN']\n",
      "The Destination airports covered are: ['CVG', 'PWM', 'RDU', 'MSP', 'MSN', 'SHV', 'CLT', 'PIT', 'RIC', 'IAH', 'ATL', 'JFK', 'DCA', 'DTW', 'LGA', 'TYS', 'PVD', 'FNT', 'LIT', 'BUF', 'ORD', 'TRI', 'IND', 'BGR', 'AVP', 'BWI', 'LEX', 'BDL', 'GRR', 'CWA', 'TUL', 'MEM', 'AGS', 'EWR', 'MGM', 'PHL', 'SYR', 'OMA', 'STL', 'TVC', 'ORF', 'CLE', 'ABY', 'BOS', 'OAJ', 'TLH', 'BTR', 'SAT', 'JAX', 'BNA', 'CHO', 'VLD', 'ROC', 'DFW', 'GNV', 'ACK', 'PBI', 'CHS', 'GRB', 'MOT', 'MKE', 'DSM', 'ILM', 'GSO', 'MCI', 'SBN', 'BTV', 'MVY', 'XNA', 'RST', 'EVV', 'HPN', 'RSW', 'MDT', 'ROA', 'GSP', 'MCO', 'CSG', 'SAV', 'PHF', 'ALB', 'CHA', 'ABE', 'BMI', 'MSY', 'IAD', 'GTR', 'CID', 'CAK', 'ATW', 'AUS', 'BQK', 'MLI', 'CAE', 'CMH', 'AVL', 'MBS', 'FLL', 'SDF', 'TPA', 'LNK', 'SRQ', 'MHT', 'BHM', 'LAS', 'SFO', 'SAN', 'RNO', 'LGB', 'ANC', 'PDX', 'SJU', 'ABQ', 'SLC', 'DEN', 'LAX', 'PHX', 'OAK', 'SMF', 'SEA', 'STX', 'BUR', 'DAB', 'SJC', 'SWF', 'HOU', 'BQN', 'PSE', 'ORH', 'HYA', 'STT', 'ONT', 'DAL', 'ECP', 'ELP', 'HRL', 'MAF', 'MDW', 'OKC', 'PNS', 'SNA', 'AMA', 'BOI', 'GEG', 'ICT', 'LBB', 'TUS', 'ISP', 'CRP', 'MFE', 'LFT', 'VPS', 'JAN', 'COS', 'MOB', 'DRO', 'GPT', 'BFL', 'COU', 'SBP', 'MTJ', 'SBA', 'PSP', 'FSD', 'FSM', 'BRO', 'PIA', 'STS', 'FAT', 'RAP', 'MRY', 'HSV', 'BIS', 'DAY', 'BZN', 'MIA', 'EYW', 'MYR', 'HHH', 'GJT', 'FAR', 'MLU', 'LRD', 'CLL', 'LCH', 'FWA', 'GRK', 'SGF', 'HOB', 'LAW', 'MHK', 'SAF', 'JLN', 'ROW', 'GRI', 'AEX', 'CRW', 'LAN', 'ERI', 'HNL', 'KOA', 'OGG', 'EGE', 'LIH', 'JAC', 'MLB', 'RDM', 'BET', 'ADQ', 'BRW', 'SCC', 'FAI', 'JNU', 'CDV', 'YAK', 'SIT', 'KTN', 'WRG', 'PSG', 'OME', 'OTZ', 'ADK', 'FCA', 'BIL', 'PSC', 'FAY', 'MSO', 'ITO', 'PPG', 'MFR', 'DLH', 'EUG', 'GUM', 'SPN', 'TTN', 'BKG', 'AZA', 'SFB', 'LCK', 'BLI', 'SCK', 'PIE', 'RFD', 'PVU', 'PBG', 'BLV', 'PGD', 'SPI', 'USA', 'TOL', 'IDA', 'ELM', 'HTS', 'HGR', 'SMX', 'OGD', 'GFK', 'STC', 'GTF', 'IAG', 'CKB', 'OWB', 'PSM', 'ABI', 'TYR', 'ALO', 'SUX', 'AZO', 'ACT', 'CMI', 'BPT', 'TXK', 'SWO', 'SPS', 'DBQ', 'SJT', 'GGG', 'LSE', 'MQT', 'GCK', 'LBE', 'ACY', 'LYH', 'PGV', 'HVN', 'EWN', 'DHN', 'PIH', 'WYS', 'SCE', 'IMT', 'HLN', 'ASE', 'SUN', 'ISN', 'EAR', 'SGU', 'VEL', 'SHD', 'LWB', 'MKG', 'SLN', 'HYS', 'BFF', 'PUB', 'LBL', 'CMX', 'EAU', 'PAH', 'UIN', 'RKS', 'CGI', 'CNY', 'JMS', 'DVL', 'LAR', 'GCC', 'LBF', 'PRC', 'RDD', 'ACV', 'OTH', 'COD', 'LWS', 'ABR', 'APN', 'PLN', 'BJI', 'CPR', 'BRD', 'BTM', 'CDC', 'CIU', 'ESC', 'EKO', 'ITH', 'HIB', 'BGM', 'TWF', 'RHI', 'INL', 'FLG', 'YUM', 'MEI', 'PIB', 'HDN']\n"
     ]
    }
   ],
   "source": [
    "import pandas as pd\n",
    "df = df_temp\n",
    "import pandas as pd\n",
    "\n",
    "# Assuming your DataFrame is named 'df'\n",
    "# Replace 'df' with the actual name of your DataFrame\n",
    "\n",
    "# How many rows and columns does the dataset have?\n",
    "num_rows, num_columns = df.shape\n",
    "print(\"The number of rows and columns are\", num_rows, \"and\", num_columns)\n",
    "\n",
    "# How many years are included in the dataset?\n",
    "years_in_dataset = df['Year'].unique()\n",
    "print(\"The years in this dataset are:\", list(years_in_dataset))\n",
    "\n",
    "# What is the date range for the dataset?\n",
    "date_range = df['FlightDate']\n",
    "print(\"The date range for data is:\", date_range.min(), \"to\", date_range.max())\n",
    "\n",
    "# Which airlines are included in the dataset?\n",
    "airlines_included = df['Reporting_Airline'].unique()\n",
    "print(\"The airlines covered in this dataset are:\", list(airlines_included))\n",
    "\n",
    "# Which origin and destination airports are covered?\n",
    "origin_airports = df['Origin'].unique()\n",
    "destination_airports = df['Dest'].unique()\n",
    "print(\"The Origin airports covered are:\", list(origin_airports))\n",
    "print(\"The Destination airports covered are:\", list(destination_airports))\n"
   ]
  },
  {
   "cell_type": "code",
   "execution_count": 17,
   "id": "5ae598ff-dddd-41b5-88de-2c4b1945e5cf",
   "metadata": {},
   "outputs": [
    {
     "data": {
      "text/html": [
       "<div>\n",
       "<style scoped>\n",
       "    .dataframe tbody tr th:only-of-type {\n",
       "        vertical-align: middle;\n",
       "    }\n",
       "\n",
       "    .dataframe tbody tr th {\n",
       "        vertical-align: top;\n",
       "    }\n",
       "\n",
       "    .dataframe thead th {\n",
       "        text-align: right;\n",
       "    }\n",
       "</style>\n",
       "<table border=\"1\" class=\"dataframe\">\n",
       "  <thead>\n",
       "    <tr style=\"text-align: right;\">\n",
       "      <th></th>\n",
       "      <th>Origin</th>\n",
       "      <th>Destination</th>\n",
       "    </tr>\n",
       "  </thead>\n",
       "  <tbody>\n",
       "    <tr>\n",
       "      <th>ABE</th>\n",
       "      <td>303</td>\n",
       "      <td>303</td>\n",
       "    </tr>\n",
       "    <tr>\n",
       "      <th>ABI</th>\n",
       "      <td>169</td>\n",
       "      <td>169</td>\n",
       "    </tr>\n",
       "    <tr>\n",
       "      <th>ABQ</th>\n",
       "      <td>2077</td>\n",
       "      <td>2076</td>\n",
       "    </tr>\n",
       "    <tr>\n",
       "      <th>ABR</th>\n",
       "      <td>60</td>\n",
       "      <td>60</td>\n",
       "    </tr>\n",
       "    <tr>\n",
       "      <th>ABY</th>\n",
       "      <td>79</td>\n",
       "      <td>79</td>\n",
       "    </tr>\n",
       "    <tr>\n",
       "      <th>...</th>\n",
       "      <td>...</td>\n",
       "      <td>...</td>\n",
       "    </tr>\n",
       "    <tr>\n",
       "      <th>WRG</th>\n",
       "      <td>60</td>\n",
       "      <td>60</td>\n",
       "    </tr>\n",
       "    <tr>\n",
       "      <th>WYS</th>\n",
       "      <td>52</td>\n",
       "      <td>52</td>\n",
       "    </tr>\n",
       "    <tr>\n",
       "      <th>XNA</th>\n",
       "      <td>1004</td>\n",
       "      <td>1004</td>\n",
       "    </tr>\n",
       "    <tr>\n",
       "      <th>YAK</th>\n",
       "      <td>60</td>\n",
       "      <td>60</td>\n",
       "    </tr>\n",
       "    <tr>\n",
       "      <th>YUM</th>\n",
       "      <td>96</td>\n",
       "      <td>96</td>\n",
       "    </tr>\n",
       "  </tbody>\n",
       "</table>\n",
       "<p>346 rows × 2 columns</p>\n",
       "</div>"
      ],
      "text/plain": [
       "     Origin  Destination\n",
       "ABE     303          303\n",
       "ABI     169          169\n",
       "ABQ    2077         2076\n",
       "ABR      60           60\n",
       "ABY      79           79\n",
       "..      ...          ...\n",
       "WRG      60           60\n",
       "WYS      52           52\n",
       "XNA    1004         1004\n",
       "YAK      60           60\n",
       "YUM      96           96\n",
       "\n",
       "[346 rows x 2 columns]"
      ]
     },
     "execution_count": 17,
     "metadata": {},
     "output_type": "execute_result"
    }
   ],
   "source": [
    "import pandas as pd\n",
    "\n",
    "# Assuming 'df' is your DataFrame\n",
    "# Replace 'df' with the actual name of your DataFrame\n",
    "\n",
    "# Count the unique values in the 'Origin' and 'Dest' columns\n",
    "#origin_counts = df['Origin'].value_counts()\n",
    "dest_counts = df['Dest'].value_counts()\n",
    "\n",
    "# Create a DataFrame from the counts\n",
    "counts = pd.DataFrame({'Origin': df['Origin'].value_counts(), 'Destination': dest_counts})\n",
    "\n",
    "# Display the counts\n",
    "counts"
   ]
  },
  {
   "cell_type": "code",
   "execution_count": 12,
   "id": "c81b6b3d-153a-4a61-a1df-2c781f18b73f",
   "metadata": {},
   "outputs": [
    {
     "ename": "SyntaxError",
     "evalue": "invalid syntax (1000711884.py, line 1)",
     "output_type": "error",
     "traceback": [
      "\u001b[1;36m  Cell \u001b[1;32mIn[12], line 1\u001b[1;36m\u001b[0m\n\u001b[1;33m    counts.sort_values(by=<CODE>,ascending=False).head(15 )# Enter your code here\u001b[0m\n\u001b[1;37m                          ^\u001b[0m\n\u001b[1;31mSyntaxError\u001b[0m\u001b[1;31m:\u001b[0m invalid syntax\n"
     ]
    }
   ],
   "source": [
    "counts.sort_values(by=<CODE>,ascending=False).head(15 )# Enter your code here"
   ]
  },
  {
   "cell_type": "code",
   "execution_count": 19,
   "id": "0fb79762-3913-4284-9a9a-7b6e101bb5e2",
   "metadata": {},
   "outputs": [
    {
     "name": "stdout",
     "output_type": "stream",
     "text": [
      "     Origin  Destination\n",
      "ATL   31525        31521\n",
      "ORD   28257        28250\n",
      "DFW   22802        22795\n",
      "DEN   19807        19807\n",
      "CLT   19655        19654\n",
      "LAX   17875        17873\n",
      "SFO   14332        14348\n",
      "IAH   14210        14203\n",
      "LGA   13850        13850\n",
      "MSP   13349        13347\n",
      "LAS   13318        13322\n",
      "PHX   13126        13128\n",
      "DTW   12725        12724\n",
      "BOS   12223        12227\n",
      "SEA   11872        11877\n"
     ]
    }
   ],
   "source": [
    "# Sort the counts DataFrame by a specific column and display the top 15\n",
    "sorted_counts = counts.sort_values(by='Origin', ascending=False).head(15)\n",
    "print(sorted_counts)\n"
   ]
  },
  {
   "cell_type": "code",
   "execution_count": 21,
   "id": "7d6cb4cd-369c-4901-9747-59b94f90c7d0",
   "metadata": {},
   "outputs": [
    {
     "data": {
      "text/html": [
       "<div>\n",
       "<style scoped>\n",
       "    .dataframe tbody tr th:only-of-type {\n",
       "        vertical-align: middle;\n",
       "    }\n",
       "\n",
       "    .dataframe tbody tr th {\n",
       "        vertical-align: top;\n",
       "    }\n",
       "\n",
       "    .dataframe thead th {\n",
       "        text-align: right;\n",
       "    }\n",
       "</style>\n",
       "<table border=\"1\" class=\"dataframe\">\n",
       "  <thead>\n",
       "    <tr style=\"text-align: right;\">\n",
       "      <th></th>\n",
       "      <th>Origin</th>\n",
       "      <th>Destination</th>\n",
       "    </tr>\n",
       "  </thead>\n",
       "  <tbody>\n",
       "    <tr>\n",
       "      <th>ATL</th>\n",
       "      <td>31525</td>\n",
       "      <td>31521</td>\n",
       "    </tr>\n",
       "    <tr>\n",
       "      <th>ORD</th>\n",
       "      <td>28257</td>\n",
       "      <td>28250</td>\n",
       "    </tr>\n",
       "    <tr>\n",
       "      <th>DFW</th>\n",
       "      <td>22802</td>\n",
       "      <td>22795</td>\n",
       "    </tr>\n",
       "    <tr>\n",
       "      <th>DEN</th>\n",
       "      <td>19807</td>\n",
       "      <td>19807</td>\n",
       "    </tr>\n",
       "    <tr>\n",
       "      <th>CLT</th>\n",
       "      <td>19655</td>\n",
       "      <td>19654</td>\n",
       "    </tr>\n",
       "    <tr>\n",
       "      <th>LAX</th>\n",
       "      <td>17875</td>\n",
       "      <td>17873</td>\n",
       "    </tr>\n",
       "    <tr>\n",
       "      <th>SFO</th>\n",
       "      <td>14332</td>\n",
       "      <td>14348</td>\n",
       "    </tr>\n",
       "    <tr>\n",
       "      <th>IAH</th>\n",
       "      <td>14210</td>\n",
       "      <td>14203</td>\n",
       "    </tr>\n",
       "    <tr>\n",
       "      <th>LGA</th>\n",
       "      <td>13850</td>\n",
       "      <td>13850</td>\n",
       "    </tr>\n",
       "    <tr>\n",
       "      <th>MSP</th>\n",
       "      <td>13349</td>\n",
       "      <td>13347</td>\n",
       "    </tr>\n",
       "    <tr>\n",
       "      <th>LAS</th>\n",
       "      <td>13318</td>\n",
       "      <td>13322</td>\n",
       "    </tr>\n",
       "    <tr>\n",
       "      <th>PHX</th>\n",
       "      <td>13126</td>\n",
       "      <td>13128</td>\n",
       "    </tr>\n",
       "    <tr>\n",
       "      <th>DTW</th>\n",
       "      <td>12725</td>\n",
       "      <td>12724</td>\n",
       "    </tr>\n",
       "    <tr>\n",
       "      <th>BOS</th>\n",
       "      <td>12223</td>\n",
       "      <td>12227</td>\n",
       "    </tr>\n",
       "    <tr>\n",
       "      <th>SEA</th>\n",
       "      <td>11872</td>\n",
       "      <td>11877</td>\n",
       "    </tr>\n",
       "  </tbody>\n",
       "</table>\n",
       "</div>"
      ],
      "text/plain": [
       "     Origin  Destination\n",
       "ATL   31525        31521\n",
       "ORD   28257        28250\n",
       "DFW   22802        22795\n",
       "DEN   19807        19807\n",
       "CLT   19655        19654\n",
       "LAX   17875        17873\n",
       "SFO   14332        14348\n",
       "IAH   14210        14203\n",
       "LGA   13850        13850\n",
       "MSP   13349        13347\n",
       "LAS   13318        13322\n",
       "PHX   13126        13128\n",
       "DTW   12725        12724\n",
       "BOS   12223        12227\n",
       "SEA   11872        11877"
      ]
     },
     "execution_count": 21,
     "metadata": {},
     "output_type": "execute_result"
    }
   ],
   "source": [
    "counts.sort_values(by='Destination',ascending=False).head(15 )# Enter your code here"
   ]
  },
  {
   "cell_type": "code",
   "execution_count": 34,
   "id": "1a16c0f6-ab17-43cb-b1ad-8a9d90fbb172",
   "metadata": {},
   "outputs": [],
   "source": [
    "import pandas as pd\n",
    "\n",
    "def combine_csv(csv_files, filter_cols, subset_cols, subset_vals):\n",
    "    \"\"\"\n",
    "    Combine csv files into one DataFrame.\n",
    "    \n",
    "    csv_files: list of csv file paths\n",
    "    filter_cols: list of columns to filter\n",
    "    subset_cols: list of columns to subset rows\n",
    "    subset_vals: list of list of values to subset rows\n",
    "    \"\"\"\n",
    "    # Create an empty dataframe\n",
    "    combined_df = pd.DataFrame()\n",
    "    \n",
    "    # Loop through each csv file\n",
    "    for file in csv_files:\n",
    "        # Read the CSV file into a dataframe\n",
    "        df = pd.read_csv(file)\n",
    "\n",
    "        # Filter the columns based on filter_cols\n",
    "        df_filtered = df[filter_cols]\n",
    "        \n",
    "        # Keep only the subset_vals in each of the subset_cols\n",
    "        for col, vals in zip(subset_cols, subset_vals):\n",
    "            df_filtered = df_filtered[df_filtered[col].isin(vals)]\n",
    "\n",
    "        # Concatenate the dataframe with the combined dataframe\n",
    "        combined_df = pd.concat([combined_df, df_filtered], ignore_index=True)\n",
    "\n",
    "    return combined_df\n"
   ]
  },
  {
   "cell_type": "code",
   "execution_count": 35,
   "id": "0a0ae48d-6b09-49cc-a981-ed9841d14e6a",
   "metadata": {},
   "outputs": [],
   "source": [
    "#cols is the list of columns to predict Arrival Delay \n",
    "cols = ['Year','Quarter','Month','DayofMonth','DayOfWeek','FlightDate',\n",
    "        'Reporting_Airline','Origin','OriginState','Dest','DestState',\n",
    "        'CRSDepTime','Cancelled','Diverted','Distance','DistanceGroup',\n",
    "        'ArrDelay','ArrDelayMinutes','ArrDel15','AirTime']\n",
    "\n",
    "subset_cols = ['Origin', 'Dest', 'Reporting_Airline']\n",
    "\n",
    "# subset_vals is a list collection of the top origin and destination airports and top 5 airlines\n",
    "subset_vals = [['ATL', 'ORD', 'DFW', 'DEN', 'CLT', 'LAX', 'IAH', 'PHX', 'SFO'], \n",
    "               ['ATL', 'ORD', 'DFW', 'DEN', 'CLT', 'LAX', 'IAH', 'PHX', 'SFO'], \n",
    "               ['UA', 'OO', 'WN', 'AA', 'DL']]"
   ]
  },
  {
   "cell_type": "code",
   "execution_count": 36,
   "id": "d23cc749-86df-48bd-9432-5e3d42bea241",
   "metadata": {},
   "outputs": [
    {
     "name": "stdout",
     "output_type": "stream",
     "text": [
      "csv's merged in 0.0 minutes\n"
     ]
    }
   ],
   "source": [
    "start = time.time()\n",
    "\n",
    "combined_csv_filename = f\"{base_path}combined_files.csv\"\n",
    "\n",
    "# < write code to call the combined_csv function>\n",
    "\n",
    "print(f'csv\\'s merged in {round((time.time() - start)/60,2)} minutes')"
   ]
  },
  {
   "cell_type": "code",
   "execution_count": 37,
   "id": "248c083d-7a0a-4c03-b007-9d4c3a71903b",
   "metadata": {},
   "outputs": [
    {
     "name": "stdout",
     "output_type": "stream",
     "text": [
      "CSVs merged in 4.6 minutes\n"
     ]
    }
   ],
   "source": [
    "import time\n",
    "import os\n",
    "import glob\n",
    "\n",
    "# Assuming csv_base_path contains paths to the CSV files\n",
    "csv_base_path = \"csv_data\"  # Replace with the actual path where CSV files are extracted\n",
    "csv_files = glob.glob(os.path.join(csv_base_path, '*.csv'))\n",
    "\n",
    "# Define the output combined CSV filename\n",
    "base_path = \".\"  # Replace with your actual base path\n",
    "combined_csv_filename = os.path.join(base_path, \"combined_files.csv\")\n",
    "\n",
    "# Start the timer\n",
    "start = time.time()\n",
    "\n",
    "# Call the combine_csv function\n",
    "combined_df = combine_csv(csv_files, cols, subset_cols, subset_vals)\n",
    "\n",
    "# Save the combined DataFrame to CSV\n",
    "combined_df.to_csv(combined_csv_filename, index=False)\n",
    "\n",
    "# Calculate the time taken and print it\n",
    "print(f\"CSVs merged in {round((time.time() - start)/60, 2)} minutes\")"
   ]
  },
  {
   "cell_type": "code",
   "execution_count": 28,
   "id": "adf3cc0b-0e26-4ca8-ad7c-31740d0a8d12",
   "metadata": {},
   "outputs": [],
   "source": [
    "import pandas as pd\n",
    "data = pd.read_csv(\"combined_files.csv\")# Enter your code here to read the combined csv file."
   ]
  },
  {
   "cell_type": "code",
   "execution_count": 29,
   "id": "806098c9-70cb-4fc6-950f-981ca4dc6f4e",
   "metadata": {},
   "outputs": [
    {
     "data": {
      "text/html": [
       "<div>\n",
       "<style scoped>\n",
       "    .dataframe tbody tr th:only-of-type {\n",
       "        vertical-align: middle;\n",
       "    }\n",
       "\n",
       "    .dataframe tbody tr th {\n",
       "        vertical-align: top;\n",
       "    }\n",
       "\n",
       "    .dataframe thead th {\n",
       "        text-align: right;\n",
       "    }\n",
       "</style>\n",
       "<table border=\"1\" class=\"dataframe\">\n",
       "  <thead>\n",
       "    <tr style=\"text-align: right;\">\n",
       "      <th></th>\n",
       "      <th>Year</th>\n",
       "      <th>Quarter</th>\n",
       "      <th>Month</th>\n",
       "      <th>DayofMonth</th>\n",
       "      <th>DayOfWeek</th>\n",
       "      <th>FlightDate</th>\n",
       "      <th>Reporting_Airline</th>\n",
       "      <th>Origin</th>\n",
       "      <th>OriginState</th>\n",
       "      <th>Dest</th>\n",
       "      <th>DestState</th>\n",
       "      <th>CRSDepTime</th>\n",
       "      <th>Cancelled</th>\n",
       "      <th>Diverted</th>\n",
       "      <th>Distance</th>\n",
       "      <th>DistanceGroup</th>\n",
       "      <th>ArrDelay</th>\n",
       "      <th>ArrDelayMinutes</th>\n",
       "      <th>ArrDel15</th>\n",
       "      <th>AirTime</th>\n",
       "    </tr>\n",
       "  </thead>\n",
       "  <tbody>\n",
       "    <tr>\n",
       "      <th>0</th>\n",
       "      <td>2014</td>\n",
       "      <td>1</td>\n",
       "      <td>1</td>\n",
       "      <td>26</td>\n",
       "      <td>7</td>\n",
       "      <td>2014-01-26</td>\n",
       "      <td>DL</td>\n",
       "      <td>ATL</td>\n",
       "      <td>GA</td>\n",
       "      <td>IAH</td>\n",
       "      <td>TX</td>\n",
       "      <td>2145</td>\n",
       "      <td>0.0</td>\n",
       "      <td>0.0</td>\n",
       "      <td>689.0</td>\n",
       "      <td>3</td>\n",
       "      <td>-20.0</td>\n",
       "      <td>0.0</td>\n",
       "      <td>0.0</td>\n",
       "      <td>99.0</td>\n",
       "    </tr>\n",
       "    <tr>\n",
       "      <th>1</th>\n",
       "      <td>2014</td>\n",
       "      <td>1</td>\n",
       "      <td>1</td>\n",
       "      <td>26</td>\n",
       "      <td>7</td>\n",
       "      <td>2014-01-26</td>\n",
       "      <td>DL</td>\n",
       "      <td>DFW</td>\n",
       "      <td>TX</td>\n",
       "      <td>ATL</td>\n",
       "      <td>GA</td>\n",
       "      <td>945</td>\n",
       "      <td>0.0</td>\n",
       "      <td>0.0</td>\n",
       "      <td>731.0</td>\n",
       "      <td>3</td>\n",
       "      <td>-3.0</td>\n",
       "      <td>0.0</td>\n",
       "      <td>0.0</td>\n",
       "      <td>98.0</td>\n",
       "    </tr>\n",
       "    <tr>\n",
       "      <th>2</th>\n",
       "      <td>2014</td>\n",
       "      <td>1</td>\n",
       "      <td>1</td>\n",
       "      <td>26</td>\n",
       "      <td>7</td>\n",
       "      <td>2014-01-26</td>\n",
       "      <td>DL</td>\n",
       "      <td>ATL</td>\n",
       "      <td>GA</td>\n",
       "      <td>DEN</td>\n",
       "      <td>CO</td>\n",
       "      <td>1855</td>\n",
       "      <td>0.0</td>\n",
       "      <td>0.0</td>\n",
       "      <td>1199.0</td>\n",
       "      <td>5</td>\n",
       "      <td>-7.0</td>\n",
       "      <td>0.0</td>\n",
       "      <td>0.0</td>\n",
       "      <td>174.0</td>\n",
       "    </tr>\n",
       "    <tr>\n",
       "      <th>3</th>\n",
       "      <td>2014</td>\n",
       "      <td>1</td>\n",
       "      <td>1</td>\n",
       "      <td>26</td>\n",
       "      <td>7</td>\n",
       "      <td>2014-01-26</td>\n",
       "      <td>DL</td>\n",
       "      <td>ATL</td>\n",
       "      <td>GA</td>\n",
       "      <td>PHX</td>\n",
       "      <td>AZ</td>\n",
       "      <td>1634</td>\n",
       "      <td>0.0</td>\n",
       "      <td>0.0</td>\n",
       "      <td>1587.0</td>\n",
       "      <td>7</td>\n",
       "      <td>-4.0</td>\n",
       "      <td>0.0</td>\n",
       "      <td>0.0</td>\n",
       "      <td>233.0</td>\n",
       "    </tr>\n",
       "    <tr>\n",
       "      <th>4</th>\n",
       "      <td>2014</td>\n",
       "      <td>1</td>\n",
       "      <td>1</td>\n",
       "      <td>26</td>\n",
       "      <td>7</td>\n",
       "      <td>2014-01-26</td>\n",
       "      <td>DL</td>\n",
       "      <td>PHX</td>\n",
       "      <td>AZ</td>\n",
       "      <td>ATL</td>\n",
       "      <td>GA</td>\n",
       "      <td>700</td>\n",
       "      <td>0.0</td>\n",
       "      <td>0.0</td>\n",
       "      <td>1587.0</td>\n",
       "      <td>7</td>\n",
       "      <td>-13.0</td>\n",
       "      <td>0.0</td>\n",
       "      <td>0.0</td>\n",
       "      <td>179.0</td>\n",
       "    </tr>\n",
       "  </tbody>\n",
       "</table>\n",
       "</div>"
      ],
      "text/plain": [
       "   Year  Quarter  Month  DayofMonth  DayOfWeek  FlightDate Reporting_Airline  \\\n",
       "0  2014        1      1          26          7  2014-01-26                DL   \n",
       "1  2014        1      1          26          7  2014-01-26                DL   \n",
       "2  2014        1      1          26          7  2014-01-26                DL   \n",
       "3  2014        1      1          26          7  2014-01-26                DL   \n",
       "4  2014        1      1          26          7  2014-01-26                DL   \n",
       "\n",
       "  Origin OriginState Dest DestState  CRSDepTime  Cancelled  Diverted  \\\n",
       "0    ATL          GA  IAH        TX        2145        0.0       0.0   \n",
       "1    DFW          TX  ATL        GA         945        0.0       0.0   \n",
       "2    ATL          GA  DEN        CO        1855        0.0       0.0   \n",
       "3    ATL          GA  PHX        AZ        1634        0.0       0.0   \n",
       "4    PHX          AZ  ATL        GA         700        0.0       0.0   \n",
       "\n",
       "   Distance  DistanceGroup  ArrDelay  ArrDelayMinutes  ArrDel15  AirTime  \n",
       "0     689.0              3     -20.0              0.0       0.0     99.0  \n",
       "1     731.0              3      -3.0              0.0       0.0     98.0  \n",
       "2    1199.0              5      -7.0              0.0       0.0    174.0  \n",
       "3    1587.0              7      -4.0              0.0       0.0    233.0  \n",
       "4    1587.0              7     -13.0              0.0       0.0    179.0  "
      ]
     },
     "execution_count": 29,
     "metadata": {},
     "output_type": "execute_result"
    }
   ],
   "source": [
    "data.head()"
   ]
  },
  {
   "cell_type": "code",
   "execution_count": 30,
   "id": "e0d58bdf-ce02-47c3-856d-ae121367c85c",
   "metadata": {},
   "outputs": [
    {
     "name": "stdout",
     "output_type": "stream",
     "text": [
      "The #rows and #columns are  1658130  and  20\n",
      "The years in this dataset are:  [2014, 2015, 2016, 2017, 2018]\n",
      "The months covered in this dataset are:  [1, 2, 3, 4, 5, 6, 7, 8, 9, 10, 11, 12]\n",
      "The date range for data is : 2014-01-01  to  2018-12-31\n",
      "The airlines covered in this dataset are:  ['DL', 'OO', 'WN', 'UA', 'AA']\n",
      "The Origin airports covered are:  ['ATL', 'DFW', 'PHX', 'DEN', 'IAH', 'CLT', 'SFO', 'LAX', 'ORD']\n",
      "The Destination airports covered are:  ['IAH', 'ATL', 'DEN', 'PHX', 'CLT', 'LAX', 'DFW', 'SFO', 'ORD']\n"
     ]
    }
   ],
   "source": [
    "df = data\n",
    "print(\"The #rows and #columns are \", df.shape[0], \" and \", df.shape[1])\n",
    "print(\"The years in this dataset are: \", list(df['Year'].unique()))\n",
    "print(\"The months covered in this dataset are: \", sorted(list(df['Month'].unique())))\n",
    "print(\"The date range for data is :\" , min(df['FlightDate']), \" to \", max(df['FlightDate']))\n",
    "print(\"The airlines covered in this dataset are: \", list(df['Reporting_Airline'].unique()))\n",
    "print(\"The Origin airports covered are: \", list(df['Origin'].unique()))\n",
    "print(\"The Destination airports covered are: \", list(df['Dest'].unique()))"
   ]
  },
  {
   "cell_type": "code",
   "execution_count": 31,
   "id": "54aa9975-05de-4c0f-89b9-d32b0852ddd4",
   "metadata": {},
   "outputs": [],
   "source": [
    "data.rename(columns={'ArrDel15': 'is_delay'}, inplace=True)"
   ]
  },
  {
   "cell_type": "code",
   "execution_count": 32,
   "id": "c51c5850-1686-4750-9a83-824560c0a561",
   "metadata": {},
   "outputs": [
    {
     "name": "stdout",
     "output_type": "stream",
     "text": [
      "Year                     0\n",
      "Quarter                  0\n",
      "Month                    0\n",
      "DayofMonth               0\n",
      "DayOfWeek                0\n",
      "FlightDate               0\n",
      "Reporting_Airline        0\n",
      "Origin                   0\n",
      "OriginState              0\n",
      "Dest                     0\n",
      "DestState                0\n",
      "CRSDepTime               0\n",
      "Cancelled                0\n",
      "Diverted                 0\n",
      "Distance                 0\n",
      "DistanceGroup            0\n",
      "ArrDelay             22540\n",
      "ArrDelayMinutes      22540\n",
      "is_delay             22540\n",
      "AirTime              22540\n",
      "dtype: int64\n"
     ]
    }
   ],
   "source": [
    "null_counts = data.isnull().sum()\n",
    "print(null_counts)"
   ]
  },
  {
   "cell_type": "code",
   "execution_count": 33,
   "id": "ae97c971-4e88-4e26-bb19-6fcbfab292a5",
   "metadata": {},
   "outputs": [],
   "source": [
    "data = data[~data['ArrDelay'].isnull() & ~data['AirTime'].isnull()]"
   ]
  },
  {
   "cell_type": "code",
   "execution_count": 34,
   "id": "e04dcfeb-f057-457e-a6e0-030bec6b26f4",
   "metadata": {},
   "outputs": [
    {
     "name": "stderr",
     "output_type": "stream",
     "text": [
      "C:\\Users\\Abs Hasan\\AppData\\Local\\Temp\\ipykernel_13028\\3973201676.py:1: SettingWithCopyWarning: \n",
      "A value is trying to be set on a copy of a slice from a DataFrame.\n",
      "Try using .loc[row_indexer,col_indexer] = value instead\n",
      "\n",
      "See the caveats in the documentation: https://pandas.pydata.org/pandas-docs/stable/user_guide/indexing.html#returning-a-view-versus-a-copy\n",
      "  data['DepHourofDay'] = data['CRSDepTime'].astype(str).str.zfill(4).str[:2].astype(int)\n"
     ]
    }
   ],
   "source": [
    "data['DepHourofDay'] = data['CRSDepTime'].astype(str).str.zfill(4).str[:2].astype(int)"
   ]
  },
  {
   "cell_type": "code",
   "execution_count": null,
   "id": "4dc95bf3-5463-42a6-be62-e3774f466b7a",
   "metadata": {},
   "outputs": [],
   "source": [
    "data.rename(columns={'ArrDel15': 'is_delay'}, inplace=True)"
   ]
  },
  {
   "cell_type": "code",
   "execution_count": null,
   "id": "ae12a8f5-f81c-43ca-a36b-0ec654f40358",
   "metadata": {},
   "outputs": [],
   "source": [
    "for column in ['ArrDelay', 'ArrDelayMinutes', 'AirTime']:\n",
    "    median_value = df[column].median()\n",
    "    data[column].fillna(median_value, inplace=True)\n",
    "\n",
    "# Since is_delay depends on ArrDelayMinutes, we should update it accordingly\n",
    "data['is_delay'] = (data['ArrDelayMinutes'] > 15).astype(int)"
   ]
  },
  {
   "cell_type": "code",
   "execution_count": null,
   "id": "dfb1f9d8-cfa9-48a5-923b-d17e14ba7628",
   "metadata": {},
   "outputs": [],
   "source": [
    "data['DepHourofDay'] = data['CRSDepTime'].astype(str).str.zfill(4).str[:2].astype(int)\n",
    "data['DepHourofDay']"
   ]
  },
  {
   "cell_type": "code",
   "execution_count": 35,
   "id": "267ab61e-b454-49ff-b2df-dce4694ef01e",
   "metadata": {},
   "outputs": [
    {
     "data": {
      "text/plain": [
       "0          21\n",
       "1           9\n",
       "2          18\n",
       "3          16\n",
       "4           7\n",
       "           ..\n",
       "1658125    11\n",
       "1658126     8\n",
       "1658127    12\n",
       "1658128    22\n",
       "1658129    16\n",
       "Name: DepHourofDay, Length: 1635590, dtype: int32"
      ]
     },
     "execution_count": 35,
     "metadata": {},
     "output_type": "execute_result"
    }
   ],
   "source": [
    "data['DepHourofDay']"
   ]
  },
  {
   "cell_type": "code",
   "execution_count": 36,
   "id": "704cb7bd-b2a3-4734-8fe0-93f44c1778c1",
   "metadata": {},
   "outputs": [
    {
     "data": {
      "image/png": "[encoded data removed]",
      "text/plain": [
       "<Figure size 640x480 with 1 Axes>"
      ]
     },
     "metadata": {},
     "output_type": "display_data"
    }
   ],
   "source": [
    "from matplotlib import pyplot as plt\n",
    "(data.groupby('is_delay').size()/len(data)).plot(kind='bar')\n",
    "plt.ylabel('Frequency')\n",
    "plt.title('Distribution of classes')\n",
    "plt.show()"
   ]
  },
  {
   "cell_type": "code",
   "execution_count": null,
   "id": "c34d0665-8197-458c-8e35-31d756e104fc",
   "metadata": {},
   "outputs": [],
   "source": []
  },
  {
   "cell_type": "code",
   "execution_count": 37,
   "id": "f6d524db-5e36-4b69-a0e4-88e33d103a68",
   "metadata": {},
   "outputs": [
    {
     "data": {
      "text/plain": [
       "is_delay\n",
       "0.0    0.790087\n",
       "1.0    0.209913\n",
       "dtype: float64"
      ]
     },
     "execution_count": 37,
     "metadata": {},
     "output_type": "execute_result"
    }
   ],
   "source": [
    "(data.groupby('is_delay').size()/len(data))"
   ]
  },
  {
   "cell_type": "markdown",
   "id": "a494ebc8-f0d9-4f2e-803f-8088292aa3ec",
   "metadata": {},
   "source": [
    "Based on the values you provided from the bar plot:\n",
    "\n",
    "- No Delay (`is_delay = 0.0`): Approximately 79.01%\n",
    "- Delay (`is_delay = 1.0`): Approximately 20.99%\n",
    "\n",
    "Here's what you can deduce:\n",
    "\n",
    "1. **Majority of Flights are On Time**: The majority of flights (about 79%) are on time, meaning they don't experience a delay of more than 15 minutes.\n",
    "\n",
    "2. **Significant Proportion of Delays**: However, a significant proportion (about 21%) of flights do experience delays. This is not a trivial number and suggests that delays are a fairly common occurrence.\n",
    "\n",
    "3. **Imbalance in Classes**: There is an imbalance in the dataset, with on-time flights outnumbering delayed flights. This could be important if you're planning to use this data for predictive modeling, as it might affect the performance of the model.\n",
    "\n",
    "4. **Implications for Stakeholders**: For stakeholders such as airlines, airports, and passengers, this distribution suggests that while most flights are on time, there's still a notable chance of experiencing a delay. This could impact operational decisions, customer service strategies, and passenger expectations.\n",
    "\n",
    "5. **Potential for Further Analysis**: The data suggests that further analysis could be useful to understand the reasons behind the 21% delays. Factors such as weather, airport congestion, technical issues, etc., could be investigated to understand and potentially mitigate these delays."
   ]
  },
  {
   "cell_type": "code",
   "execution_count": 14,
   "id": "8b44dd7c-6876-4797-8fd0-80917cae2978",
   "metadata": {},
   "outputs": [
    {
     "ename": "NameError",
     "evalue": "name 'sns' is not defined",
     "output_type": "error",
     "traceback": [
      "\u001b[1;31m---------------------------------------------------------------------------\u001b[0m",
      "\u001b[1;31mNameError\u001b[0m                                 Traceback (most recent call last)",
      "Cell \u001b[1;32mIn[14], line 9\u001b[0m\n\u001b[0;32m      6\u001b[0m     ax \u001b[38;5;241m=\u001b[39m axes[idx\u001b[38;5;241m/\u001b[39m\u001b[38;5;241m/\u001b[39m\u001b[38;5;241m2\u001b[39m, idx\u001b[38;5;241m%\u001b[39m\u001b[38;5;241m2\u001b[39m]\n\u001b[0;32m      7\u001b[0m     temp \u001b[38;5;241m=\u001b[39m data\u001b[38;5;241m.\u001b[39mgroupby(column)[\u001b[38;5;124m'\u001b[39m\u001b[38;5;124mis_delay\u001b[39m\u001b[38;5;124m'\u001b[39m]\u001b[38;5;241m.\u001b[39mvalue_counts(normalize\u001b[38;5;241m=\u001b[39m\u001b[38;5;28;01mTrue\u001b[39;00m)\u001b[38;5;241m.\u001b[39mrename(\u001b[38;5;124m'\u001b[39m\u001b[38;5;124mpercentage\u001b[39m\u001b[38;5;124m'\u001b[39m)\u001b[38;5;241m.\u001b[39m\\\n\u001b[0;32m      8\u001b[0m     mul(\u001b[38;5;241m100\u001b[39m)\u001b[38;5;241m.\u001b[39mreset_index()\u001b[38;5;241m.\u001b[39msort_values(column)\n\u001b[1;32m----> 9\u001b[0m     \u001b[43msns\u001b[49m\u001b[38;5;241m.\u001b[39mbarplot(x\u001b[38;5;241m=\u001b[39mcolumn, y\u001b[38;5;241m=\u001b[39m\u001b[38;5;124m\"\u001b[39m\u001b[38;5;124mpercentage\u001b[39m\u001b[38;5;124m\"\u001b[39m, hue\u001b[38;5;241m=\u001b[39m\u001b[38;5;124m\"\u001b[39m\u001b[38;5;124mis_delay\u001b[39m\u001b[38;5;124m\"\u001b[39m, data\u001b[38;5;241m=\u001b[39mtemp, ax\u001b[38;5;241m=\u001b[39max)\n\u001b[0;32m     10\u001b[0m     plt\u001b[38;5;241m.\u001b[39mylabel(\u001b[38;5;124m'\u001b[39m\u001b[38;5;132;01m% d\u001b[39;00m\u001b[38;5;124melay/no-delay\u001b[39m\u001b[38;5;124m'\u001b[39m)\n\u001b[0;32m     13\u001b[0m plt\u001b[38;5;241m.\u001b[39mshow()\n",
      "\u001b[1;31mNameError\u001b[0m: name 'sns' is not defined"
     ]
    },
    {
     "data": {
      "image/png": "[encoded data removed]",
      "text/plain": [
       "<Figure size 2000x2000 with 6 Axes>"
      ]
     },
     "metadata": {},
     "output_type": "display_data"
    }
   ],
   "source": [
    "viz_columns = ['Month', 'DepHourofDay', 'DayOfWeek', 'Reporting_Airline', 'Origin', 'Dest']\n",
    "fig, axes = plt.subplots(3, 2, figsize=(20,20), squeeze=False)\n",
    "# fig.autofmt_xdate(rotation=90)\n",
    "\n",
    "for idx, column in enumerate(viz_columns):\n",
    "    ax = axes[idx//2, idx%2]\n",
    "    temp = data.groupby(column)['is_delay'].value_counts(normalize=True).rename('percentage').\\\n",
    "    mul(100).reset_index().sort_values(column)\n",
    "    sns.barplot(x=column, y=\"percentage\", hue=\"is_delay\", data=temp, ax=ax)\n",
    "    plt.ylabel('% delay/no-delay')\n",
    "    \n",
    "\n",
    "plt.show()"
   ]
  },
  {
   "cell_type": "code",
   "execution_count": null,
   "id": "b766cfef-47d3-431c-aa4b-b834d54fa9c4",
   "metadata": {},
   "outputs": [],
   "source": [
    "sns.lmplot( x=\"is_delay\", y=\"Distance\", data=data, fit_reg=False, hue='is_delay', legend=False)\n",
    "plt.legend(loc='center')\n",
    "plt.xlabel('is_delay')\n",
    "plt.ylabel('Distance')\n",
    "plt.show()"
   ]
  },
  {
   "cell_type": "markdown",
   "id": "3e1d224a-b6c1-4cdf-aeb8-e3e64f9ad17b",
   "metadata": {},
   "source": [
    "**Questions**: \n",
    "\n",
    "- Which months have the most delays?\n",
    "- What time of the day has the most delays?\n",
    "- What day of the week has the most delays?\n",
    "- Which airline has the most delays?\n",
    "- Which origin and destination airports have the most delays?\n",
    "- Is flight distance a factor in the delays?"
   ]
  },
  {
   "cell_type": "code",
   "execution_count": 38,
   "id": "b0ec903d-c021-4123-a3df-5d38997d9fe6",
   "metadata": {},
   "outputs": [
    {
     "data": {
      "text/plain": [
       "Index(['Year', 'Quarter', 'Month', 'DayofMonth', 'DayOfWeek', 'FlightDate',\n",
       "       'Reporting_Airline', 'Origin', 'OriginState', 'Dest', 'DestState',\n",
       "       'CRSDepTime', 'Cancelled', 'Diverted', 'Distance', 'DistanceGroup',\n",
       "       'ArrDelay', 'ArrDelayMinutes', 'is_delay', 'AirTime', 'DepHourofDay'],\n",
       "      dtype='object')"
      ]
     },
     "execution_count": 38,
     "metadata": {},
     "output_type": "execute_result"
    }
   ],
   "source": [
    "data.columns"
   ]
  },
  {
   "cell_type": "code",
   "execution_count": 39,
   "id": "b6871467-8920-4bde-ab1a-5d7366fe1e8a",
   "metadata": {},
   "outputs": [
    {
     "data": {
      "text/plain": [
       "(Year                   int64\n",
       " Quarter                int64\n",
       " Month                  int64\n",
       " DayofMonth             int64\n",
       " DayOfWeek              int64\n",
       " FlightDate            object\n",
       " Reporting_Airline     object\n",
       " Origin                object\n",
       " OriginState           object\n",
       " Dest                  object\n",
       " DestState             object\n",
       " CRSDepTime             int64\n",
       " Cancelled            float64\n",
       " Diverted             float64\n",
       " Distance             float64\n",
       " DistanceGroup          int64\n",
       " ArrDelay             float64\n",
       " ArrDelayMinutes      float64\n",
       " is_delay             float64\n",
       " AirTime              float64\n",
       " DepHourofDay           int32\n",
       " dtype: object,\n",
       " 21)"
      ]
     },
     "execution_count": 39,
     "metadata": {},
     "output_type": "execute_result"
    }
   ],
   "source": [
    "data.dtypes, len(data.dtypes)"
   ]
  },
  {
   "cell_type": "code",
   "execution_count": 71,
   "id": "4bac3058-fc4b-4435-9365-998270fcd858",
   "metadata": {},
   "outputs": [],
   "source": [
    "data_orig = data.copy()\n",
    "data = data[[ 'is_delay', 'Quarter', 'Month', 'DayofMonth', 'DayOfWeek', \n",
    "       'Reporting_Airline', 'Origin', 'Dest','Distance','DepHourofDay']]\n",
    "categorical_columns  = ['Quarter', 'Month', 'DayofMonth', 'DayOfWeek', \n",
    "       'Reporting_Airline', 'Origin', 'Dest', 'DepHourofDay']\n",
    "for c in categorical_columns:\n",
    "    data[c] = data[c].astype('category')# Enter your code here"
   ]
  },
  {
   "cell_type": "code",
   "execution_count": 54,
   "id": "71dfb024-b6c5-4e77-890f-39c9a11cd59a",
   "metadata": {},
   "outputs": [],
   "source": [
    "# Apply one-hot encoding to the categorical columns\n",
    "data_dummies = pd.get_dummies(data[categorical_columns], drop_first=True)\n",
    "\n",
    "# Concatenate the one-hot encoded columns back to the original dataset\n",
    "data = pd.concat([data, data_dummies], axis=1)\n",
    "\n",
    "# Drop the original categorical columns as they are now represented by the dummy variables\n",
    "data.drop(categorical_columns, axis=1, inplace=True)\n"
   ]
  },
  {
   "cell_type": "code",
   "execution_count": 55,
   "id": "8221929d-d9ad-4b86-9114-b283a3b3a915",
   "metadata": {},
   "outputs": [
    {
     "name": "stdout",
     "output_type": "stream",
     "text": [
      "Number of rows in the dataset: 1635590\n",
      "Number of columns in the dataset: 94\n"
     ]
    }
   ],
   "source": [
    "# Check the number of rows and columns\n",
    "num_rows, num_columns = data.shape\n",
    "\n",
    "print(\"Number of rows in the dataset:\", num_rows)\n",
    "print(\"Number of columns in the dataset:\", num_columns)\n"
   ]
  },
  {
   "cell_type": "code",
   "execution_count": 56,
   "id": "7778d0bd-69f4-4ebc-b0d2-c61ab655c6eb",
   "metadata": {},
   "outputs": [
    {
     "data": {
      "text/plain": [
       "Index(['is_delay', 'Distance', 'Quarter_2', 'Quarter_3', 'Quarter_4',\n",
       "       'Month_2', 'Month_3', 'Month_4', 'Month_5', 'Month_6', 'Month_7',\n",
       "       'Month_8', 'Month_9', 'Month_10', 'Month_11', 'Month_12',\n",
       "       'DayofMonth_2', 'DayofMonth_3', 'DayofMonth_4', 'DayofMonth_5',\n",
       "       'DayofMonth_6', 'DayofMonth_7', 'DayofMonth_8', 'DayofMonth_9',\n",
       "       'DayofMonth_10', 'DayofMonth_11', 'DayofMonth_12', 'DayofMonth_13',\n",
       "       'DayofMonth_14', 'DayofMonth_15', 'DayofMonth_16', 'DayofMonth_17',\n",
       "       'DayofMonth_18', 'DayofMonth_19', 'DayofMonth_20', 'DayofMonth_21',\n",
       "       'DayofMonth_22', 'DayofMonth_23', 'DayofMonth_24', 'DayofMonth_25',\n",
       "       'DayofMonth_26', 'DayofMonth_27', 'DayofMonth_28', 'DayofMonth_29',\n",
       "       'DayofMonth_30', 'DayofMonth_31', 'DayOfWeek_2', 'DayOfWeek_3',\n",
       "       'DayOfWeek_4', 'DayOfWeek_5', 'DayOfWeek_6', 'DayOfWeek_7',\n",
       "       'Reporting_Airline_DL', 'Reporting_Airline_OO', 'Reporting_Airline_UA',\n",
       "       'Reporting_Airline_WN', 'Origin_CLT', 'Origin_DEN', 'Origin_DFW',\n",
       "       'Origin_IAH', 'Origin_LAX', 'Origin_ORD', 'Origin_PHX', 'Origin_SFO',\n",
       "       'Dest_CLT', 'Dest_DEN', 'Dest_DFW', 'Dest_IAH', 'Dest_LAX', 'Dest_ORD',\n",
       "       'Dest_PHX', 'Dest_SFO', 'DepHourofDay_1', 'DepHourofDay_2',\n",
       "       'DepHourofDay_4', 'DepHourofDay_5', 'DepHourofDay_6', 'DepHourofDay_7',\n",
       "       'DepHourofDay_8', 'DepHourofDay_9', 'DepHourofDay_10',\n",
       "       'DepHourofDay_11', 'DepHourofDay_12', 'DepHourofDay_13',\n",
       "       'DepHourofDay_14', 'DepHourofDay_15', 'DepHourofDay_16',\n",
       "       'DepHourofDay_17', 'DepHourofDay_18', 'DepHourofDay_19',\n",
       "       'DepHourofDay_20', 'DepHourofDay_21', 'DepHourofDay_22',\n",
       "       'DepHourofDay_23'],\n",
       "      dtype='object')"
      ]
     },
     "execution_count": 56,
     "metadata": {},
     "output_type": "execute_result"
    }
   ],
   "source": [
    "data.columns"
   ]
  },
  {
   "cell_type": "code",
   "execution_count": 40,
   "id": "d21c062f-07b8-4857-8b5b-ad4fb32420c2",
   "metadata": {},
   "outputs": [],
   "source": [
    "data_orig = data.copy()\n",
    "\n",
    "data = data[['is_delay', 'Quarter', 'Month', 'DayofMonth', 'DayOfWeek', \n",
    "             'Reporting_Airline', 'Origin', 'Dest', 'Distance', 'DepHourofDay']]\n",
    "\n",
    "# Define a function to bucketize the DepHourofDay\n",
    "def bucketize_hour(hour):\n",
    "    if 0 <= hour < 6:\n",
    "        return 'Night'\n",
    "    elif 6 <= hour < 12:\n",
    "        return 'Morning'\n",
    "    elif 12 <= hour < 18:\n",
    "        return 'Afternoon'\n",
    "    else:\n",
    "        return 'Evening'\n",
    "\n",
    "# Apply the function to the DepHourofDay column\n",
    "data['DepHourofDay'] = data['DepHourofDay'].apply(bucketize_hour).astype('category')\n",
    "\n",
    "# Define the list of categorical columns\n",
    "categorical_columns = ['Quarter', 'Month', 'DayofMonth', 'DayOfWeek', \n",
    "                       'Reporting_Airline', 'Origin', 'Dest']\n",
    "\n",
    "# Convert the columns to category type\n",
    "for c in categorical_columns:\n",
    "    data[c] = data[c].astype('category')\n"
   ]
  },
  {
   "cell_type": "code",
   "execution_count": 18,
   "id": "2dfea48d-e47e-4292-878b-690155c47a67",
   "metadata": {},
   "outputs": [],
   "source": [
    "# Apply one-hot encoding to the categorical columns\n",
    "data_dummies = pd.get_dummies(data[categorical_columns], drop_first=True)\n",
    "\n",
    "# Concatenate the one-hot encoded columns back to the original dataset\n",
    "data = pd.concat([data, data_dummies], axis=1)\n",
    "\n",
    "# Drop the original categorical columns as they are now represented by the dummy variables\n",
    "data.drop(categorical_columns, axis=1, inplace=True)"
   ]
  },
  {
   "cell_type": "code",
   "execution_count": 19,
   "id": "8a314bab-a3b2-4af0-8cdf-d41c2aac8c6d",
   "metadata": {},
   "outputs": [
    {
     "name": "stdout",
     "output_type": "stream",
     "text": [
      "Number of rows in the dataset: 1635590\n",
      "Number of columns in the dataset: 73\n"
     ]
    }
   ],
   "source": [
    "# Check the number of rows and columns\n",
    "num_rows, num_columns = data.shape\n",
    "\n",
    "print(\"Number of rows in the dataset:\", num_rows)\n",
    "print(\"Number of columns in the dataset:\", num_columns)\n"
   ]
  },
  {
   "cell_type": "code",
   "execution_count": 20,
   "id": "00bae1f8-2249-4429-a985-e91fcc201fc6",
   "metadata": {},
   "outputs": [
    {
     "data": {
      "text/plain": [
       "Index(['is_delay', 'Distance', 'DepHourofDay', 'Quarter_2', 'Quarter_3',\n",
       "       'Quarter_4', 'Month_2', 'Month_3', 'Month_4', 'Month_5', 'Month_6',\n",
       "       'Month_7', 'Month_8', 'Month_9', 'Month_10', 'Month_11', 'Month_12',\n",
       "       'DayofMonth_2', 'DayofMonth_3', 'DayofMonth_4', 'DayofMonth_5',\n",
       "       'DayofMonth_6', 'DayofMonth_7', 'DayofMonth_8', 'DayofMonth_9',\n",
       "       'DayofMonth_10', 'DayofMonth_11', 'DayofMonth_12', 'DayofMonth_13',\n",
       "       'DayofMonth_14', 'DayofMonth_15', 'DayofMonth_16', 'DayofMonth_17',\n",
       "       'DayofMonth_18', 'DayofMonth_19', 'DayofMonth_20', 'DayofMonth_21',\n",
       "       'DayofMonth_22', 'DayofMonth_23', 'DayofMonth_24', 'DayofMonth_25',\n",
       "       'DayofMonth_26', 'DayofMonth_27', 'DayofMonth_28', 'DayofMonth_29',\n",
       "       'DayofMonth_30', 'DayofMonth_31', 'DayOfWeek_2', 'DayOfWeek_3',\n",
       "       'DayOfWeek_4', 'DayOfWeek_5', 'DayOfWeek_6', 'DayOfWeek_7',\n",
       "       'Reporting_Airline_DL', 'Reporting_Airline_OO', 'Reporting_Airline_UA',\n",
       "       'Reporting_Airline_WN', 'Origin_CLT', 'Origin_DEN', 'Origin_DFW',\n",
       "       'Origin_IAH', 'Origin_LAX', 'Origin_ORD', 'Origin_PHX', 'Origin_SFO',\n",
       "       'Dest_CLT', 'Dest_DEN', 'Dest_DFW', 'Dest_IAH', 'Dest_LAX', 'Dest_ORD',\n",
       "       'Dest_PHX', 'Dest_SFO'],\n",
       "      dtype='object')"
      ]
     },
     "execution_count": 20,
     "metadata": {},
     "output_type": "execute_result"
    }
   ],
   "source": [
    "data.columns"
   ]
  },
  {
   "cell_type": "code",
   "execution_count": null,
   "id": "26569339-8a35-40dc-ae18-f45d83b418c8",
   "metadata": {},
   "outputs": [],
   "source": [
    "Index(['Distance', 'is_delay', 'Quarter_2', 'Quarter_3', 'Quarter_4',\n",
    "       'Month_2', 'Month_3', 'Month_4', 'Month_5', 'Month_6', 'Month_7',\n",
    "       'Month_8', 'Month_9', 'Month_10', 'Month_11', 'Month_12',\n",
    "       'DayofMonth_2', 'DayofMonth_3', 'DayofMonth_4', 'DayofMonth_5',\n",
    "       'DayofMonth_6', 'DayofMonth_7', 'DayofMonth_8', 'DayofMonth_9',\n",
    "       'DayofMonth_10', 'DayofMonth_11', 'DayofMonth_12', 'DayofMonth_13',\n",
    "       'DayofMonth_14', 'DayofMonth_15', 'DayofMonth_16', 'DayofMonth_17',\n",
    "       'DayofMonth_18', 'DayofMonth_19', 'DayofMonth_20', 'DayofMonth_21',\n",
    "       'DayofMonth_22', 'DayofMonth_23', 'DayofMonth_24', 'DayofMonth_25',\n",
    "       'DayofMonth_26', 'DayofMonth_27', 'DayofMonth_28', 'DayofMonth_29',\n",
    "       'DayofMonth_30', 'DayofMonth_31', 'DayOfWeek_2', 'DayOfWeek_3',\n",
    "       'DayOfWeek_4', 'DayOfWeek_5', 'DayOfWeek_6', 'DayOfWeek_7',\n",
    "       'Reporting_Airline_DL', 'Reporting_Airline_OO', 'Reporting_Airline_UA',\n",
    "       'Reporting_Airline_WN', 'Origin_CLT', 'Origin_DEN', 'Origin_DFW',\n",
    "       'Origin_IAH', 'Origin_LAX', 'Origin_ORD', 'Origin_PHX', 'Origin_SFO',\n",
    "       'Dest_CLT', 'Dest_DEN', 'Dest_DFW', 'Dest_IAH', 'Dest_LAX', 'Dest_ORD',\n",
    "       'Dest_PHX', 'Dest_SFO'],\n",
    "      dtype='object')"
   ]
  },
  {
   "cell_type": "code",
   "execution_count": 21,
   "id": "9d66fc1f-711e-43d6-8067-11ddd4bb186a",
   "metadata": {},
   "outputs": [
    {
     "data": {
      "text/plain": [
       "Index(['target', 'Distance', 'DepHourofDay', 'Quarter_2', 'Quarter_3',\n",
       "       'Quarter_4', 'Month_2', 'Month_3', 'Month_4', 'Month_5', 'Month_6',\n",
       "       'Month_7', 'Month_8', 'Month_9', 'Month_10', 'Month_11', 'Month_12',\n",
       "       'DayofMonth_2', 'DayofMonth_3', 'DayofMonth_4', 'DayofMonth_5',\n",
       "       'DayofMonth_6', 'DayofMonth_7', 'DayofMonth_8', 'DayofMonth_9',\n",
       "       'DayofMonth_10', 'DayofMonth_11', 'DayofMonth_12', 'DayofMonth_13',\n",
       "       'DayofMonth_14', 'DayofMonth_15', 'DayofMonth_16', 'DayofMonth_17',\n",
       "       'DayofMonth_18', 'DayofMonth_19', 'DayofMonth_20', 'DayofMonth_21',\n",
       "       'DayofMonth_22', 'DayofMonth_23', 'DayofMonth_24', 'DayofMonth_25',\n",
       "       'DayofMonth_26', 'DayofMonth_27', 'DayofMonth_28', 'DayofMonth_29',\n",
       "       'DayofMonth_30', 'DayofMonth_31', 'DayOfWeek_2', 'DayOfWeek_3',\n",
       "       'DayOfWeek_4', 'DayOfWeek_5', 'DayOfWeek_6', 'DayOfWeek_7',\n",
       "       'Reporting_Airline_DL', 'Reporting_Airline_OO', 'Reporting_Airline_UA',\n",
       "       'Reporting_Airline_WN', 'Origin_CLT', 'Origin_DEN', 'Origin_DFW',\n",
       "       'Origin_IAH', 'Origin_LAX', 'Origin_ORD', 'Origin_PHX', 'Origin_SFO',\n",
       "       'Dest_CLT', 'Dest_DEN', 'Dest_DFW', 'Dest_IAH', 'Dest_LAX', 'Dest_ORD',\n",
       "       'Dest_PHX', 'Dest_SFO'],\n",
       "      dtype='object')"
      ]
     },
     "execution_count": 21,
     "metadata": {},
     "output_type": "execute_result"
    }
   ],
   "source": [
    "data.rename(columns={'is_delay': 'target'}, inplace=True)\n",
    "data.columns"
   ]
  },
  {
   "cell_type": "code",
   "execution_count": 91,
   "id": "c1aa0a8e-35e1-4e2f-a670-f6de4a34e0bd",
   "metadata": {},
   "outputs": [],
   "source": [
    "data.to_csv('combined_csv_v1.csv', index=False)"
   ]
  },
  {
   "cell_type": "code",
   "execution_count": 92,
   "id": "38192632-810b-4cf5-b8d0-6534218ee2ee",
   "metadata": {},
   "outputs": [],
   "source": [
    "from sklearn.model_selection import train_test_split\n",
    "from sklearn.linear_model import LogisticRegression\n",
    "from sklearn.metrics import accuracy_score\n",
    "\n",
    "# Splitting the data into train and test sets\n",
    "X = data.drop('target', axis=1)\n",
    "y = data['target']\n",
    "train_data, test_data, train_labels, test_labels = train_test_split(X, y, test_size=0.2, random_state=42)"
   ]
  },
  {
   "cell_type": "code",
   "execution_count": 108,
   "id": "b2c570cd-da57-4dc8-8e95-87ff36769ded",
   "metadata": {},
   "outputs": [
    {
     "name": "stdout",
     "output_type": "stream",
     "text": [
      "Accuracy of the random baseline model: 0.4996606729070244\n"
     ]
    }
   ],
   "source": [
    "from sklearn.dummy import DummyClassifier\n",
    "from sklearn.metrics import accuracy_score\n",
    "\n",
    "# Instantiate the random baseline model\n",
    "random_baseline_model = DummyClassifier(strategy='uniform', random_state=42)\n",
    "\n",
    "# Fit the model to the training data\n",
    "random_baseline_model.fit(train_data, train_labels)\n",
    "\n",
    "# Make predictions on the test data\n",
    "random_predictions = random_baseline_model.predict(test_data)\n",
    "\n",
    "# Evaluate the model\n",
    "accuracy = accuracy_score(test_labels, random_predictions)\n",
    "print(\"Accuracy of the random baseline model:\", accuracy)"
   ]
  },
  {
   "cell_type": "code",
   "execution_count": 109,
   "id": "71c5f6d1-e1d4-4480-950c-5d26dea1dfc2",
   "metadata": {},
   "outputs": [],
   "source": [
    "import matplotlib.pyplot as plt\n",
    "import seaborn as sns\n",
    "from sklearn.metrics import confusion_matrix\n",
    "\n",
    "def plot_confusion_matrix(test_labels, target_predicted):\n",
    "    # Calculate the confusion matrix\n",
    "    cm = confusion_matrix(test_labels, target_predicted)\n",
    "\n",
    "    # Visualize the confusion matrix using a heatmap\n",
    "    plt.figure(figsize=(8, 6))\n",
    "    sns.heatmap(cm, annot=True, fmt='d', cmap='Blues', cbar=False)\n",
    "    plt.xlabel('Predicted')\n",
    "    plt.ylabel('True')\n",
    "    plt.title('Confusion Matrix')\n",
    "    plt.show()"
   ]
  },
  {
   "cell_type": "code",
   "execution_count": 111,
   "id": "1525d530-08b7-4832-a322-6ddab7f55f0d",
   "metadata": {},
   "outputs": [
    {
     "data": {
      "image/png": "[encoded data removed]",
      "text/plain": [
       "<Figure size 800x600 with 1 Axes>"
      ]
     },
     "metadata": {},
     "output_type": "display_data"
    }
   ],
   "source": [
    "# Assuming you have a model and you've made predictions named 'predictions'\n",
    "plot_confusion_matrix(test_labels, random_predictions)"
   ]
  },
  {
   "cell_type": "code",
   "execution_count": 112,
   "id": "101f3f77-cfdd-45e9-b54d-4d10370e001f",
   "metadata": {},
   "outputs": [],
   "source": [
    "import matplotlib.pyplot as plt\n",
    "from sklearn.metrics import roc_curve, roc_auc_score\n",
    "\n",
    "def plot_roc(test_labels, target_predicted_probs):\n",
    "    # Calculate the ROC curve\n",
    "    fpr, tpr, thresholds = roc_curve(test_labels, target_predicted_probs)\n",
    "\n",
    "    # Calculate the AUC\n",
    "    auc = roc_auc_score(test_labels, target_predicted_probs)\n",
    "\n",
    "    # Plot the ROC curve\n",
    "    plt.figure(figsize=(8, 6))\n",
    "    plt.plot(fpr, tpr, label=f'AUC = {auc:.2f}')\n",
    "    plt.plot([0, 1], [0, 1], linestyle='--', color='red')\n",
    "    plt.xlabel('False Positive Rate')\n",
    "    plt.ylabel('True Positive Rate')\n",
    "    plt.title('ROC Curve')\n",
    "    plt.legend()\n",
    "    plt.show()"
   ]
  },
  {
   "cell_type": "code",
   "execution_count": 113,
   "id": "1ef2b4ab-4fc0-422b-99d8-39ce5625a3aa",
   "metadata": {},
   "outputs": [
    {
     "data": {
      "image/png": "[encoded data removed]",
      "text/plain": [
       "<Figure size 800x600 with 1 Axes>"
      ]
     },
     "metadata": {},
     "output_type": "display_data"
    }
   ],
   "source": [
    "# Assuming you have a model named 'model'\n",
    "probabilities = majority_baseline_model.predict_proba(test_data)[:, 1] # Taking the second column for positive class probabilities\n",
    "plot_roc(test_labels, probabilities)"
   ]
  },
  {
   "cell_type": "code",
   "execution_count": 114,
   "id": "0d71a5c9-80dd-47ae-926a-056d9a57f191",
   "metadata": {},
   "outputs": [
    {
     "name": "stdout",
     "output_type": "stream",
     "text": [
      "Training Set Metrics:\n",
      "Accuracy: 0.7901101437401794\n",
      "Precision: 0.0\n",
      "Recall: 0.0\n",
      "F1 Score: 0.0\n",
      "\n",
      "Test Set Metrics:\n",
      "Accuracy: 0.7899932134581404\n",
      "Precision: 0.0\n",
      "Recall: 0.0\n",
      "F1 Score: 0.0\n"
     ]
    }
   ],
   "source": [
    "from sklearn.metrics import accuracy_score, precision_score, recall_score, f1_score\n",
    "model = majority_baseline_model\n",
    "# Predictions on the training set\n",
    "train_predictions = model.predict(train_data)\n",
    "\n",
    "# Predictions on the test set\n",
    "test_predictions = model.predict(test_data)\n",
    "\n",
    "# Calculate metrics for the training set\n",
    "train_accuracy = accuracy_score(train_labels, train_predictions)\n",
    "train_precision = precision_score(train_labels, train_predictions)\n",
    "train_recall = recall_score(train_labels, train_predictions)\n",
    "train_f1 = f1_score(train_labels, train_predictions)\n",
    "\n",
    "# Calculate metrics for the test set\n",
    "test_accuracy = accuracy_score(test_labels, test_predictions)\n",
    "test_precision = precision_score(test_labels, test_predictions)\n",
    "test_recall = recall_score(test_labels, test_predictions)\n",
    "test_f1 = f1_score(test_labels, test_predictions)\n",
    "\n",
    "# Print the results\n",
    "print(\"Training Set Metrics:\")\n",
    "print(\"Accuracy:\", train_accuracy)\n",
    "print(\"Precision:\", train_precision)\n",
    "print(\"Recall:\", train_recall)\n",
    "print(\"F1 Score:\", train_f1)\n",
    "\n",
    "print(\"\\nTest Set Metrics:\")\n",
    "print(\"Accuracy:\", test_accuracy)\n",
    "print(\"Precision:\", test_precision)\n",
    "print(\"Recall:\", test_recall)\n",
    "print(\"F1 Score:\", test_f1)"
   ]
  },
  {
   "cell_type": "code",
   "execution_count": 115,
   "id": "12b290bb-1df0-4d38-9336-4e38f7c35946",
   "metadata": {},
   "outputs": [
    {
     "data": {
      "text/plain": [
       "array([0., 1.])"
      ]
     },
     "execution_count": 115,
     "metadata": {},
     "output_type": "execute_result"
    }
   ],
   "source": [
    "data.target.unique()"
   ]
  },
  {
   "cell_type": "code",
   "execution_count": 116,
   "id": "330839a2-22ae-4b68-9a15-cb8198993c0e",
   "metadata": {},
   "outputs": [
    {
     "name": "stdout",
     "output_type": "stream",
     "text": [
      "Accuracy of the random baseline model: 0.4996606729070244\n",
      "Precision: 0.21029802031540737\n",
      "Recall: 0.5017831928614059\n",
      "F1 Score: 0.29638195793854144\n"
     ]
    }
   ],
   "source": [
    "from sklearn.dummy import DummyClassifier\n",
    "from sklearn.metrics import accuracy_score, precision_score, recall_score, f1_score\n",
    "\n",
    "# Instantiate the random baseline model\n",
    "random_baseline_model = DummyClassifier(strategy='uniform', random_state=42)\n",
    "\n",
    "# Fit the model to the training data\n",
    "random_baseline_model.fit(train_data, train_labels)\n",
    "\n",
    "# Make predictions on the test data\n",
    "random_predictions = random_baseline_model.predict(test_data)\n",
    "\n",
    "# Evaluate the model\n",
    "accuracy = accuracy_score(test_labels, random_predictions)\n",
    "precision = precision_score(test_labels, random_predictions)\n",
    "recall = recall_score(test_labels, random_predictions)\n",
    "f1 = f1_score(test_labels, random_predictions)\n",
    "\n",
    "print(\"Accuracy of the random baseline model:\", accuracy)\n",
    "print(\"Precision:\", precision)\n",
    "print(\"Recall:\", recall)\n",
    "print(\"F1 Score:\", f1)"
   ]
  },
  {
   "cell_type": "code",
   "execution_count": 118,
   "id": "40c14f19-252c-41d3-a37f-10d00e6996e1",
   "metadata": {},
   "outputs": [
    {
     "data": {
      "text/plain": [
       "0.0    1292258\n",
       "1.0     343332\n",
       "Name: target, dtype: int64"
      ]
     },
     "execution_count": 118,
     "metadata": {},
     "output_type": "execute_result"
    },
    {
     "data": {
      "image/png": "[encoded data removed]",
      "text/plain": [
       "<Figure size 640x480 with 1 Axes>"
      ]
     },
     "metadata": {},
     "output_type": "display_data"
    }
   ],
   "source": [
    "import seaborn as sns\n",
    "sns.countplot(data['target'])\n",
    "data['target'].value_counts()"
   ]
  },
  {
   "cell_type": "code",
   "execution_count": 123,
   "id": "93ae5c10-fb51-4bd0-b5ed-aa106ac45557",
   "metadata": {},
   "outputs": [
    {
     "ename": "ValueError",
     "evalue": "could not convert string to float: 'Afternoon'",
     "output_type": "error",
     "traceback": [
      "\u001b[1;31m---------------------------------------------------------------------------\u001b[0m",
      "\u001b[1;31mValueError\u001b[0m                                Traceback (most recent call last)",
      "Cell \u001b[1;32mIn[123], line 3\u001b[0m\n\u001b[0;32m      1\u001b[0m \u001b[38;5;66;03m# Apply SMOTE to only the training data\u001b[39;00m\n\u001b[0;32m      2\u001b[0m smote \u001b[38;5;241m=\u001b[39m SMOTE(random_state\u001b[38;5;241m=\u001b[39m\u001b[38;5;241m42\u001b[39m)\n\u001b[1;32m----> 3\u001b[0m train_data_resampled, train_labels_resampled \u001b[38;5;241m=\u001b[39m \u001b[43msmote\u001b[49m\u001b[38;5;241;43m.\u001b[39;49m\u001b[43mfit_resample\u001b[49m\u001b[43m(\u001b[49m\u001b[43mtrain_data\u001b[49m\u001b[43m,\u001b[49m\u001b[43m \u001b[49m\u001b[43mtrain_labels\u001b[49m\u001b[43m)\u001b[49m\n",
      "File \u001b[1;32m~\\AppData\\Local\\Programs\\Python\\Python311\\Lib\\site-packages\\imblearn\\base.py:208\u001b[0m, in \u001b[0;36mBaseSampler.fit_resample\u001b[1;34m(self, X, y)\u001b[0m\n\u001b[0;32m    187\u001b[0m \u001b[38;5;250m\u001b[39m\u001b[38;5;124;03m\"\"\"Resample the dataset.\u001b[39;00m\n\u001b[0;32m    188\u001b[0m \n\u001b[0;32m    189\u001b[0m \u001b[38;5;124;03mParameters\u001b[39;00m\n\u001b[1;32m   (...)\u001b[0m\n\u001b[0;32m    205\u001b[0m \u001b[38;5;124;03m    The corresponding label of `X_resampled`.\u001b[39;00m\n\u001b[0;32m    206\u001b[0m \u001b[38;5;124;03m\"\"\"\u001b[39;00m\n\u001b[0;32m    207\u001b[0m \u001b[38;5;28mself\u001b[39m\u001b[38;5;241m.\u001b[39m_validate_params()\n\u001b[1;32m--> 208\u001b[0m \u001b[38;5;28;01mreturn\u001b[39;00m \u001b[38;5;28;43msuper\u001b[39;49m\u001b[43m(\u001b[49m\u001b[43m)\u001b[49m\u001b[38;5;241;43m.\u001b[39;49m\u001b[43mfit_resample\u001b[49m\u001b[43m(\u001b[49m\u001b[43mX\u001b[49m\u001b[43m,\u001b[49m\u001b[43m \u001b[49m\u001b[43my\u001b[49m\u001b[43m)\u001b[49m\n",
      "File \u001b[1;32m~\\AppData\\Local\\Programs\\Python\\Python311\\Lib\\site-packages\\imblearn\\base.py:112\u001b[0m, in \u001b[0;36mSamplerMixin.fit_resample\u001b[1;34m(self, X, y)\u001b[0m\n\u001b[0;32m    106\u001b[0m X, y, binarize_y \u001b[38;5;241m=\u001b[39m \u001b[38;5;28mself\u001b[39m\u001b[38;5;241m.\u001b[39m_check_X_y(X, y)\n\u001b[0;32m    108\u001b[0m \u001b[38;5;28mself\u001b[39m\u001b[38;5;241m.\u001b[39msampling_strategy_ \u001b[38;5;241m=\u001b[39m check_sampling_strategy(\n\u001b[0;32m    109\u001b[0m     \u001b[38;5;28mself\u001b[39m\u001b[38;5;241m.\u001b[39msampling_strategy, y, \u001b[38;5;28mself\u001b[39m\u001b[38;5;241m.\u001b[39m_sampling_type\n\u001b[0;32m    110\u001b[0m )\n\u001b[1;32m--> 112\u001b[0m output \u001b[38;5;241m=\u001b[39m \u001b[38;5;28;43mself\u001b[39;49m\u001b[38;5;241;43m.\u001b[39;49m\u001b[43m_fit_resample\u001b[49m\u001b[43m(\u001b[49m\u001b[43mX\u001b[49m\u001b[43m,\u001b[49m\u001b[43m \u001b[49m\u001b[43my\u001b[49m\u001b[43m)\u001b[49m\n\u001b[0;32m    114\u001b[0m y_ \u001b[38;5;241m=\u001b[39m (\n\u001b[0;32m    115\u001b[0m     label_binarize(output[\u001b[38;5;241m1\u001b[39m], classes\u001b[38;5;241m=\u001b[39mnp\u001b[38;5;241m.\u001b[39munique(y)) \u001b[38;5;28;01mif\u001b[39;00m binarize_y \u001b[38;5;28;01melse\u001b[39;00m output[\u001b[38;5;241m1\u001b[39m]\n\u001b[0;32m    116\u001b[0m )\n\u001b[0;32m    118\u001b[0m X_, y_ \u001b[38;5;241m=\u001b[39m arrays_transformer\u001b[38;5;241m.\u001b[39mtransform(output[\u001b[38;5;241m0\u001b[39m], y_)\n",
      "File \u001b[1;32m~\\AppData\\Local\\Programs\\Python\\Python311\\Lib\\site-packages\\imblearn\\over_sampling\\_smote\\base.py:363\u001b[0m, in \u001b[0;36mSMOTE._fit_resample\u001b[1;34m(self, X, y)\u001b[0m\n\u001b[0;32m    360\u001b[0m target_class_indices \u001b[38;5;241m=\u001b[39m np\u001b[38;5;241m.\u001b[39mflatnonzero(y \u001b[38;5;241m==\u001b[39m class_sample)\n\u001b[0;32m    361\u001b[0m X_class \u001b[38;5;241m=\u001b[39m _safe_indexing(X, target_class_indices)\n\u001b[1;32m--> 363\u001b[0m \u001b[38;5;28;43mself\u001b[39;49m\u001b[38;5;241;43m.\u001b[39;49m\u001b[43mnn_k_\u001b[49m\u001b[38;5;241;43m.\u001b[39;49m\u001b[43mfit\u001b[49m\u001b[43m(\u001b[49m\u001b[43mX_class\u001b[49m\u001b[43m)\u001b[49m\n\u001b[0;32m    364\u001b[0m nns \u001b[38;5;241m=\u001b[39m \u001b[38;5;28mself\u001b[39m\u001b[38;5;241m.\u001b[39mnn_k_\u001b[38;5;241m.\u001b[39mkneighbors(X_class, return_distance\u001b[38;5;241m=\u001b[39m\u001b[38;5;28;01mFalse\u001b[39;00m)[:, \u001b[38;5;241m1\u001b[39m:]\n\u001b[0;32m    365\u001b[0m X_new, y_new \u001b[38;5;241m=\u001b[39m \u001b[38;5;28mself\u001b[39m\u001b[38;5;241m.\u001b[39m_make_samples(\n\u001b[0;32m    366\u001b[0m     X_class, y\u001b[38;5;241m.\u001b[39mdtype, class_sample, X_class, nns, n_samples, \u001b[38;5;241m1.0\u001b[39m\n\u001b[0;32m    367\u001b[0m )\n",
      "File \u001b[1;32m~\\AppData\\Local\\Programs\\Python\\Python311\\Lib\\site-packages\\sklearn\\neighbors\\_unsupervised.py:176\u001b[0m, in \u001b[0;36mNearestNeighbors.fit\u001b[1;34m(self, X, y)\u001b[0m\n\u001b[0;32m    159\u001b[0m \u001b[38;5;250m\u001b[39m\u001b[38;5;124;03m\"\"\"Fit the nearest neighbors estimator from the training dataset.\u001b[39;00m\n\u001b[0;32m    160\u001b[0m \n\u001b[0;32m    161\u001b[0m \u001b[38;5;124;03mParameters\u001b[39;00m\n\u001b[1;32m   (...)\u001b[0m\n\u001b[0;32m    173\u001b[0m \u001b[38;5;124;03m    The fitted nearest neighbors estimator.\u001b[39;00m\n\u001b[0;32m    174\u001b[0m \u001b[38;5;124;03m\"\"\"\u001b[39;00m\n\u001b[0;32m    175\u001b[0m \u001b[38;5;28mself\u001b[39m\u001b[38;5;241m.\u001b[39m_validate_params()\n\u001b[1;32m--> 176\u001b[0m \u001b[38;5;28;01mreturn\u001b[39;00m \u001b[38;5;28;43mself\u001b[39;49m\u001b[38;5;241;43m.\u001b[39;49m\u001b[43m_fit\u001b[49m\u001b[43m(\u001b[49m\u001b[43mX\u001b[49m\u001b[43m)\u001b[49m\n",
      "File \u001b[1;32m~\\AppData\\Local\\Programs\\Python\\Python311\\Lib\\site-packages\\sklearn\\neighbors\\_base.py:491\u001b[0m, in \u001b[0;36mNeighborsBase._fit\u001b[1;34m(self, X, y)\u001b[0m\n\u001b[0;32m    489\u001b[0m \u001b[38;5;28;01melse\u001b[39;00m:\n\u001b[0;32m    490\u001b[0m     \u001b[38;5;28;01mif\u001b[39;00m \u001b[38;5;129;01mnot\u001b[39;00m \u001b[38;5;28misinstance\u001b[39m(X, (KDTree, BallTree, NeighborsBase)):\n\u001b[1;32m--> 491\u001b[0m         X \u001b[38;5;241m=\u001b[39m \u001b[38;5;28;43mself\u001b[39;49m\u001b[38;5;241;43m.\u001b[39;49m\u001b[43m_validate_data\u001b[49m\u001b[43m(\u001b[49m\u001b[43mX\u001b[49m\u001b[43m,\u001b[49m\u001b[43m \u001b[49m\u001b[43maccept_sparse\u001b[49m\u001b[38;5;241;43m=\u001b[39;49m\u001b[38;5;124;43m\"\u001b[39;49m\u001b[38;5;124;43mcsr\u001b[39;49m\u001b[38;5;124;43m\"\u001b[39;49m\u001b[43m,\u001b[49m\u001b[43m \u001b[49m\u001b[43morder\u001b[49m\u001b[38;5;241;43m=\u001b[39;49m\u001b[38;5;124;43m\"\u001b[39;49m\u001b[38;5;124;43mC\u001b[39;49m\u001b[38;5;124;43m\"\u001b[39;49m\u001b[43m)\u001b[49m\n\u001b[0;32m    493\u001b[0m \u001b[38;5;28mself\u001b[39m\u001b[38;5;241m.\u001b[39m_check_algorithm_metric()\n\u001b[0;32m    494\u001b[0m \u001b[38;5;28;01mif\u001b[39;00m \u001b[38;5;28mself\u001b[39m\u001b[38;5;241m.\u001b[39mmetric_params \u001b[38;5;129;01mis\u001b[39;00m \u001b[38;5;28;01mNone\u001b[39;00m:\n",
      "File \u001b[1;32m~\\AppData\\Local\\Programs\\Python\\Python311\\Lib\\site-packages\\sklearn\\base.py:565\u001b[0m, in \u001b[0;36mBaseEstimator._validate_data\u001b[1;34m(self, X, y, reset, validate_separately, **check_params)\u001b[0m\n\u001b[0;32m    563\u001b[0m     \u001b[38;5;28;01mraise\u001b[39;00m \u001b[38;5;167;01mValueError\u001b[39;00m(\u001b[38;5;124m\"\u001b[39m\u001b[38;5;124mValidation should be done on X, y or both.\u001b[39m\u001b[38;5;124m\"\u001b[39m)\n\u001b[0;32m    564\u001b[0m \u001b[38;5;28;01melif\u001b[39;00m \u001b[38;5;129;01mnot\u001b[39;00m no_val_X \u001b[38;5;129;01mand\u001b[39;00m no_val_y:\n\u001b[1;32m--> 565\u001b[0m     X \u001b[38;5;241m=\u001b[39m \u001b[43mcheck_array\u001b[49m\u001b[43m(\u001b[49m\u001b[43mX\u001b[49m\u001b[43m,\u001b[49m\u001b[43m \u001b[49m\u001b[43minput_name\u001b[49m\u001b[38;5;241;43m=\u001b[39;49m\u001b[38;5;124;43m\"\u001b[39;49m\u001b[38;5;124;43mX\u001b[39;49m\u001b[38;5;124;43m\"\u001b[39;49m\u001b[43m,\u001b[49m\u001b[43m \u001b[49m\u001b[38;5;241;43m*\u001b[39;49m\u001b[38;5;241;43m*\u001b[39;49m\u001b[43mcheck_params\u001b[49m\u001b[43m)\u001b[49m\n\u001b[0;32m    566\u001b[0m     out \u001b[38;5;241m=\u001b[39m X\n\u001b[0;32m    567\u001b[0m \u001b[38;5;28;01melif\u001b[39;00m no_val_X \u001b[38;5;129;01mand\u001b[39;00m \u001b[38;5;129;01mnot\u001b[39;00m no_val_y:\n",
      "File \u001b[1;32m~\\AppData\\Local\\Programs\\Python\\Python311\\Lib\\site-packages\\sklearn\\utils\\validation.py:879\u001b[0m, in \u001b[0;36mcheck_array\u001b[1;34m(array, accept_sparse, accept_large_sparse, dtype, order, copy, force_all_finite, ensure_2d, allow_nd, ensure_min_samples, ensure_min_features, estimator, input_name)\u001b[0m\n\u001b[0;32m    877\u001b[0m         array \u001b[38;5;241m=\u001b[39m xp\u001b[38;5;241m.\u001b[39mastype(array, dtype, copy\u001b[38;5;241m=\u001b[39m\u001b[38;5;28;01mFalse\u001b[39;00m)\n\u001b[0;32m    878\u001b[0m     \u001b[38;5;28;01melse\u001b[39;00m:\n\u001b[1;32m--> 879\u001b[0m         array \u001b[38;5;241m=\u001b[39m \u001b[43m_asarray_with_order\u001b[49m\u001b[43m(\u001b[49m\u001b[43marray\u001b[49m\u001b[43m,\u001b[49m\u001b[43m \u001b[49m\u001b[43morder\u001b[49m\u001b[38;5;241;43m=\u001b[39;49m\u001b[43morder\u001b[49m\u001b[43m,\u001b[49m\u001b[43m \u001b[49m\u001b[43mdtype\u001b[49m\u001b[38;5;241;43m=\u001b[39;49m\u001b[43mdtype\u001b[49m\u001b[43m,\u001b[49m\u001b[43m \u001b[49m\u001b[43mxp\u001b[49m\u001b[38;5;241;43m=\u001b[39;49m\u001b[43mxp\u001b[49m\u001b[43m)\u001b[49m\n\u001b[0;32m    880\u001b[0m \u001b[38;5;28;01mexcept\u001b[39;00m ComplexWarning \u001b[38;5;28;01mas\u001b[39;00m complex_warning:\n\u001b[0;32m    881\u001b[0m     \u001b[38;5;28;01mraise\u001b[39;00m \u001b[38;5;167;01mValueError\u001b[39;00m(\n\u001b[0;32m    882\u001b[0m         \u001b[38;5;124m\"\u001b[39m\u001b[38;5;124mComplex data not supported\u001b[39m\u001b[38;5;130;01m\\n\u001b[39;00m\u001b[38;5;132;01m{}\u001b[39;00m\u001b[38;5;130;01m\\n\u001b[39;00m\u001b[38;5;124m\"\u001b[39m\u001b[38;5;241m.\u001b[39mformat(array)\n\u001b[0;32m    883\u001b[0m     ) \u001b[38;5;28;01mfrom\u001b[39;00m \u001b[38;5;21;01mcomplex_warning\u001b[39;00m\n",
      "File \u001b[1;32m~\\AppData\\Local\\Programs\\Python\\Python311\\Lib\\site-packages\\sklearn\\utils\\_array_api.py:185\u001b[0m, in \u001b[0;36m_asarray_with_order\u001b[1;34m(array, dtype, order, copy, xp)\u001b[0m\n\u001b[0;32m    182\u001b[0m     xp, _ \u001b[38;5;241m=\u001b[39m get_namespace(array)\n\u001b[0;32m    183\u001b[0m \u001b[38;5;28;01mif\u001b[39;00m xp\u001b[38;5;241m.\u001b[39m\u001b[38;5;18m__name__\u001b[39m \u001b[38;5;129;01min\u001b[39;00m {\u001b[38;5;124m\"\u001b[39m\u001b[38;5;124mnumpy\u001b[39m\u001b[38;5;124m\"\u001b[39m, \u001b[38;5;124m\"\u001b[39m\u001b[38;5;124mnumpy.array_api\u001b[39m\u001b[38;5;124m\"\u001b[39m}:\n\u001b[0;32m    184\u001b[0m     \u001b[38;5;66;03m# Use NumPy API to support order\u001b[39;00m\n\u001b[1;32m--> 185\u001b[0m     array \u001b[38;5;241m=\u001b[39m numpy\u001b[38;5;241m.\u001b[39masarray(array, order\u001b[38;5;241m=\u001b[39morder, dtype\u001b[38;5;241m=\u001b[39mdtype)\n\u001b[0;32m    186\u001b[0m     \u001b[38;5;28;01mreturn\u001b[39;00m xp\u001b[38;5;241m.\u001b[39masarray(array, copy\u001b[38;5;241m=\u001b[39mcopy)\n\u001b[0;32m    187\u001b[0m \u001b[38;5;28;01melse\u001b[39;00m:\n",
      "\u001b[1;31mValueError\u001b[0m: could not convert string to float: 'Afternoon'"
     ]
    }
   ],
   "source": [
    "# Apply SMOTE to only the training data\n",
    "smote = SMOTE(random_state=42)\n",
    "train_data_resampled, train_labels_resampled = smote.fit_resample(train_data, train_labels)"
   ]
  },
  {
   "cell_type": "code",
   "execution_count": 121,
   "id": "398f0d00-fa9a-4c00-a370-7d25b61164d3",
   "metadata": {},
   "outputs": [
    {
     "name": "stdout",
     "output_type": "stream",
     "text": [
      "Collecting imbalanced-learnNote: you may need to restart the kernel to use updated packages.\n",
      "\n",
      "  Obtaining dependency information for imbalanced-learn from https://files.pythonhosted.org/packages/a3/9e/fbe60a768502af54563dcb59ca7856f5a8833b3ad5ada658922e1ab09b7f/imbalanced_learn-0.11.0-py3-none-any.whl.metadata\n",
      "  Downloading imbalanced_learn-0.11.0-py3-none-any.whl.metadata (8.3 kB)\n",
      "Requirement already satisfied: numpy>=1.17.3 in c:\\users\\abs hasan\\appdata\\local\\programs\\python\\python311\\lib\\site-packages (from imbalanced-learn) (1.24.1)\n",
      "Requirement already satisfied: scipy>=1.5.0 in c:\\users\\abs hasan\\appdata\\local\\programs\\python\\python311\\lib\\site-packages (from imbalanced-learn) (1.10.1)\n",
      "Requirement already satisfied: scikit-learn>=1.0.2 in c:\\users\\abs hasan\\appdata\\local\\programs\\python\\python311\\lib\\site-packages (from imbalanced-learn) (1.2.2)\n",
      "Requirement already satisfied: joblib>=1.1.1 in c:\\users\\abs hasan\\appdata\\local\\programs\\python\\python311\\lib\\site-packages (from imbalanced-learn) (1.2.0)\n",
      "Requirement already satisfied: threadpoolctl>=2.0.0 in c:\\users\\abs hasan\\appdata\\local\\programs\\python\\python311\\lib\\site-packages (from imbalanced-learn) (3.1.0)\n",
      "Downloading imbalanced_learn-0.11.0-py3-none-any.whl (235 kB)\n",
      "   ---------------------------------------- 0.0/235.6 kB ? eta -:--:--\n",
      "   ---------------------------------------  235.5/235.6 kB 7.3 MB/s eta 0:00:01\n",
      "   ---------------------------------------- 235.6/235.6 kB 4.8 MB/s eta 0:00:00\n",
      "Installing collected packages: imbalanced-learn\n",
      "Successfully installed imbalanced-learn-0.11.0\n"
     ]
    },
    {
     "name": "stderr",
     "output_type": "stream",
     "text": [
      "\n",
      "[notice] A new release of pip is available: 23.2.1 -> 23.3.1\n",
      "[notice] To update, run: python.exe -m pip install --upgrade pip\n"
     ]
    }
   ],
   "source": [
    "#pip install imbalanced-learn"
   ]
  },
  {
   "cell_type": "code",
   "execution_count": null,
   "id": "8a3f3c31-184f-4496-a01e-a0fabcb6702b",
   "metadata": {},
   "outputs": [],
   "source": [
    "import pandas as pd\n",
    "\n",
    "# Assuming 'labels_resampled' is your resampled target variable\n",
    "\n",
    "# Convert to a DataFrame for easy manipulation (if it's not already)\n",
    "labels_resampled_df = pd.DataFrame(labels_resampled, columns=['target'])\n",
    "\n",
    "# Count the occurrences of each class\n",
    "class_distribution = labels_resampled_df['target'].value_counts()\n",
    "\n",
    "# Print the class distribution\n",
    "print(class_distribution)\n",
    "\n",
    "# Optionally, you can visualize it\n",
    "import seaborn as sns\n",
    "sns.countplot(labels_resampled_df['target'])"
   ]
  }
 ],
 "metadata": {
  "kernelspec": {
   "display_name": "Python 3 (ipykernel)",
   "language": "python",
   "name": "python3"
  },
  "language_info": {
   "codemirror_mode": {
    "name": "ipython",
    "version": 3
   },
   "file_extension": ".py",
   "mimetype": "text/x-python",
   "name": "python",
   "nbconvert_exporter": "python",
   "pygments_lexer": "ipython3",
   "version": "3.11.4"
  }
 },
 "nbformat": 4,
 "nbformat_minor": 5
}
